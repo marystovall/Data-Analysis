{
  "nbformat": 4,
  "nbformat_minor": 0,
  "metadata": {
    "colab": {
      "name": "CDL - Website Semantic Audit by WordLift",
      "provenance": [],
      "collapsed_sections": [],
      "include_colab_link": true
    },
    "kernelspec": {
      "name": "python3",
      "display_name": "Python 3"
    }
  },
  "cells": [
    {
      "cell_type": "markdown",
      "metadata": {
        "id": "view-in-github",
        "colab_type": "text"
      },
      "source": [
        "<a href=\"https://colab.research.google.com/github/marystovall/Data-Analysis/blob/master/CDL_Website_Semantic_Audit_by_WordLift.ipynb\" target=\"_parent\"><img src=\"https://colab.research.google.com/assets/colab-badge.svg\" alt=\"Open In Colab\"/></a>"
      ]
    },
    {
      "cell_type": "markdown",
      "metadata": {
        "id": "tDFr6zGXm0cF",
        "colab_type": "text"
      },
      "source": [
        "# Semantic Audit\n",
        "\n",
        "<table align=\"left\">\n",
        "  <td>\n",
        "  <a href=\"https://wordlift.io\">\n",
        "    <img width=130px src=\"https://wordlift.io/wp-content/uploads/2018/07/logo-assets-510x287.png\" />\n",
        "    </a>\n",
        "    </td>\n",
        "    <td>\n",
        "     <img width=130px src=\"https://cdn.oreillystatic.com/oreilly/images/logo_guidelines_bg_white.png\"  /> \n",
        "    </td>\n",
        "    <td>\n",
        "      by \n",
        "      <a href=\"https://wordlift.io/blog/en/entity/andrea-volpini\">\n",
        "        Andrea Volpini\n",
        "      </a>\n",
        "      <br/>\n",
        "      <br/>\n",
        "      MIT License\n",
        "      <br/>\n",
        "      <br/>\n",
        "      <i>Last updated: <b>Sept 8th, 2019</b></i>\n",
        "  </td>\n",
        "</table>"
      ]
    },
    {
      "cell_type": "markdown",
      "metadata": {
        "id": "_4VLPnNjRg4z",
        "colab_type": "text"
      },
      "source": [
        "Using **[spaCy](https://spacy.io)** (a great library for *natural language processing*) **to extract named entities** from a list of urls *(this list can be generated using your favorite crawler)*.\n",
        "\n",
        "\n",
        "> For more information on **[natural language processing for SEO](https://wordlift.io/blog/en/entity/natural-language-processing/)**, you can visit the WordLift blog.\n"
      ]
    },
    {
      "cell_type": "markdown",
      "metadata": {
        "id": "0MQpo4gcSj_u",
        "colab_type": "text"
      },
      "source": [
        "## Importing the libraries we need\n",
        "\n",
        "\n"
      ]
    },
    {
      "cell_type": "code",
      "metadata": {
        "id": "feoRCiGCmzU2",
        "colab_type": "code",
        "colab": {}
      },
      "source": [
        "# Import libraries\n",
        "import spacy\n",
        "from spacy import displacy\n",
        "from collections import Counter\n",
        "import en_core_web_sm\n",
        "nlp = en_core_web_sm.load()\n",
        "from bs4 import BeautifulSoup\n",
        "import requests\n",
        "import re\n",
        "import pandas as pd\n",
        "import matplotlib.pyplot as plt\n",
        "import numpy as np\n",
        "\n",
        "# Use the following for threading \n",
        "import logging\n",
        "#import os\n",
        "#from queue import Queue\n",
        "#from threading import Thread\n",
        "from time import time"
      ],
      "execution_count": 0,
      "outputs": []
    },
    {
      "cell_type": "markdown",
      "metadata": {
        "id": "dAKU-nMTS8ad",
        "colab_type": "text"
      },
      "source": [
        "## Downloading crawl data from Google Sheet \n",
        "\n",
        "The script uses the `internal_html` CSV export file generated using **Screaming FROG Seo Spider** or `_url` CSV file generated with **WooRank Crawler**. \n",
        "\n",
        "The data has been imported into Google Sheet so that we can inspect it. Change the URL below after publishing your CSV:\n",
        "\n",
        "\n",
        "> 1. Open file from \"My Drive\" or \"Upload\"\n",
        "2. File -> Publish to the web -> \"Sheet name\" option and \"csv\" option\n",
        "\n",
        "\n"
      ]
    },
    {
      "cell_type": "code",
      "metadata": {
        "id": "PKn9BawGnE8q",
        "colab_type": "code",
        "outputId": "06bdd8b3-a206-4df5-d7a4-9a04e8b6bc28",
        "colab": {
          "base_uri": "https://localhost:8080/",
          "height": 204
        }
      },
      "source": [
        "# Download the list of URLs from Google Docs (file generated with Screaming Frog SEO Spider) \n",
        "!wget 'https://docs.google.com/spreadsheets/d/e/2PACX-1vSipACDZxAX8rBejVGrtC_kvwgcVERVXTLh4ng-bklobTw7eA-y7iNDyvWqLi5-d2fESrCrLu5ama21/pub?gid=62665702&single=true&output=csv'\n",
        "\n"
      ],
      "execution_count": 0,
      "outputs": [
        {
          "output_type": "stream",
          "text": [
            "--2019-10-03 13:39:15--  https://docs.google.com/spreadsheets/d/e/2PACX-1vSipACDZxAX8rBejVGrtC_kvwgcVERVXTLh4ng-bklobTw7eA-y7iNDyvWqLi5-d2fESrCrLu5ama21/pub?gid=62665702&single=true&output=csv\n",
            "Resolving docs.google.com (docs.google.com)... 74.125.195.138, 74.125.195.102, 74.125.195.101, ...\n",
            "Connecting to docs.google.com (docs.google.com)|74.125.195.138|:443... connected.\n",
            "HTTP request sent, awaiting response... 200 OK\n",
            "Length: unspecified [text/csv]\n",
            "Saving to: ‘pub?gid=62665702&single=true&output=csv’\n",
            "\n",
            "pub?gid=62665702&si     [ <=>                ]  15.80K  --.-KB/s    in 0s      \n",
            "\n",
            "2019-10-03 13:39:16 (88.0 MB/s) - ‘pub?gid=62665702&single=true&output=csv’ saved [16183]\n",
            "\n"
          ],
          "name": "stdout"
        }
      ]
    },
    {
      "cell_type": "code",
      "metadata": {
        "id": "mLURUvq8Y89-",
        "colab_type": "code",
        "colab": {}
      },
      "source": [
        "# Download the list of URLs from Google Docs (file generated with WooRank) \n",
        "!wget 'https://docs.google.com/spreadsheets/d/e/2PACX-1vQEwgTFGA4j23334Q1Cd89aui0kbHcPUf9yNz1wvz5pCIDq2smAzn71Z2SMPFUiRYWy0DblpQq_QM4A/pub?gid=388657239&single=true&output=csv'\n"
      ],
      "execution_count": 0,
      "outputs": []
    },
    {
      "cell_type": "markdown",
      "metadata": {
        "id": "CbaTKno4UjEn",
        "colab_type": "text"
      },
      "source": [
        "## Creating a Pandas DataFrame \n",
        "\n",
        "Following the file structure we will only use the following columns:\n",
        "\n",
        "- *url* (`cols='0'` | `Address`), \n",
        "- *http status* (`cols='2'` | `Status Code`), \n",
        "- *title* (`cols='6'` | `Title 1`)\n",
        "\n",
        "We will then use *http status* to focus our analysis only to urls responding with `HTTP 200`."
      ]
    },
    {
      "cell_type": "code",
      "metadata": {
        "id": "MkxzFc68pB4I",
        "colab_type": "code",
        "outputId": "75045415-241a-48f8-d5d5-6f90e148d33e",
        "colab": {
          "base_uri": "https://localhost:8080/",
          "height": 221
        }
      },
      "source": [
        "# Open the CSV file with the URLs to analyze\n",
        "\n",
        "df = pd.read_csv('pub?gid=62665702&single=true&output=csv', # Update the string here to change the file\n",
        "                  usecols=[0,2,6], # This is for Screaming Frog\n",
        "                 #usecols=[0,5,8,38],  \n",
        "                 header=1,\n",
        "                 encoding=\"utf-8-sig\" ) \n",
        "\n",
        "print(\"we have a total of:\", len(df), \" urls\")\n",
        "\n",
        "df.head()"
      ],
      "execution_count": 0,
      "outputs": [
        {
          "output_type": "stream",
          "text": [
            "we have a total of: 19  urls\n"
          ],
          "name": "stdout"
        },
        {
          "output_type": "execute_result",
          "data": {
            "text/html": [
              "<div>\n",
              "<style scoped>\n",
              "    .dataframe tbody tr th:only-of-type {\n",
              "        vertical-align: middle;\n",
              "    }\n",
              "\n",
              "    .dataframe tbody tr th {\n",
              "        vertical-align: top;\n",
              "    }\n",
              "\n",
              "    .dataframe thead th {\n",
              "        text-align: right;\n",
              "    }\n",
              "</style>\n",
              "<table border=\"1\" class=\"dataframe\">\n",
              "  <thead>\n",
              "    <tr style=\"text-align: right;\">\n",
              "      <th></th>\n",
              "      <th>Address</th>\n",
              "      <th>Status Code</th>\n",
              "      <th>Title 1</th>\n",
              "    </tr>\n",
              "  </thead>\n",
              "  <tbody>\n",
              "    <tr>\n",
              "      <th>0</th>\n",
              "      <td>https://open-data.insideout.io/</td>\n",
              "      <td>200</td>\n",
              "      <td>connected-data.london – Workshop – AI-Powered SEO</td>\n",
              "    </tr>\n",
              "    <tr>\n",
              "      <th>1</th>\n",
              "      <td>https://open-data.insideout.io/2018/12/11/the-...</td>\n",
              "      <td>200</td>\n",
              "      <td>The Future of Data is Connected and Open Minde...</td>\n",
              "    </tr>\n",
              "    <tr>\n",
              "      <th>2</th>\n",
              "      <td>https://open-data.insideout.io/2019/07/01/life...</td>\n",
              "      <td>200</td>\n",
              "      <td>Life Sciences at Connected Data London 2019 – ...</td>\n",
              "    </tr>\n",
              "    <tr>\n",
              "      <th>3</th>\n",
              "      <td>https://open-data.insideout.io/category/uncate...</td>\n",
              "      <td>200</td>\n",
              "      <td>Uncategorized – connected-data.london – Workshop</td>\n",
              "    </tr>\n",
              "    <tr>\n",
              "      <th>4</th>\n",
              "      <td>https://open-data.insideout.io/2018/11/05/deep...</td>\n",
              "      <td>200</td>\n",
              "      <td>Deep link analysis drives machine learning at ...</td>\n",
              "    </tr>\n",
              "  </tbody>\n",
              "</table>\n",
              "</div>"
            ],
            "text/plain": [
              "                                             Address  ...                                            Title 1\n",
              "0                    https://open-data.insideout.io/  ...  connected-data.london – Workshop – AI-Powered SEO\n",
              "1  https://open-data.insideout.io/2018/12/11/the-...  ...  The Future of Data is Connected and Open Minde...\n",
              "2  https://open-data.insideout.io/2019/07/01/life...  ...  Life Sciences at Connected Data London 2019 – ...\n",
              "3  https://open-data.insideout.io/category/uncate...  ...   Uncategorized – connected-data.london – Workshop\n",
              "4  https://open-data.insideout.io/2018/11/05/deep...  ...  Deep link analysis drives machine learning at ...\n",
              "\n",
              "[5 rows x 3 columns]"
            ]
          },
          "metadata": {
            "tags": []
          },
          "execution_count": 3
        }
      ]
    },
    {
      "cell_type": "code",
      "metadata": {
        "id": "s40FswK5wqJc",
        "colab_type": "code",
        "colab": {}
      },
      "source": [
        "# WooRank - Keep all rows with Status Code == 200 considered PAGE and with GSC position >=1 \n",
        "df = df[(df['status'] == 200) & (df['parent_type'] == 'PAGE') & (df['position'] >= 1)] \n"
      ],
      "execution_count": 0,
      "outputs": []
    },
    {
      "cell_type": "code",
      "metadata": {
        "id": "BU190zItYbOy",
        "colab_type": "code",
        "colab": {}
      },
      "source": [
        "# Screaming Frog - Keep all rows with Status Code == 200 and exclude archive pages\n",
        "df = df[(df['Status Code'] == 200) & (df['Address'].str.contains(\"category\")==False)]"
      ],
      "execution_count": 0,
      "outputs": []
    },
    {
      "cell_type": "code",
      "metadata": {
        "id": "R9ZZBuCWw3KL",
        "colab_type": "code",
        "outputId": "f16ae131-54eb-4bf1-be0b-f9717770f06f",
        "colab": {
          "base_uri": "https://localhost:8080/",
          "height": 34
        }
      },
      "source": [
        "print(\"we have to process:\", len(df), \" urls\")\n",
        "\n",
        "# Reindex df\n",
        "df.index = range(len(df.index))"
      ],
      "execution_count": 0,
      "outputs": [
        {
          "output_type": "stream",
          "text": [
            "we have to process: 17  urls\n"
          ],
          "name": "stdout"
        }
      ]
    },
    {
      "cell_type": "code",
      "metadata": {
        "id": "_qN66FkueF9S",
        "colab_type": "code",
        "outputId": "7ce1d0c0-e4b2-4303-85c5-b89598bba1d7",
        "colab": {
          "base_uri": "https://localhost:8080/",
          "height": 204
        }
      },
      "source": [
        "df.head()"
      ],
      "execution_count": 0,
      "outputs": [
        {
          "output_type": "execute_result",
          "data": {
            "text/html": [
              "<div>\n",
              "<style scoped>\n",
              "    .dataframe tbody tr th:only-of-type {\n",
              "        vertical-align: middle;\n",
              "    }\n",
              "\n",
              "    .dataframe tbody tr th {\n",
              "        vertical-align: top;\n",
              "    }\n",
              "\n",
              "    .dataframe thead th {\n",
              "        text-align: right;\n",
              "    }\n",
              "</style>\n",
              "<table border=\"1\" class=\"dataframe\">\n",
              "  <thead>\n",
              "    <tr style=\"text-align: right;\">\n",
              "      <th></th>\n",
              "      <th>Address</th>\n",
              "      <th>Status Code</th>\n",
              "      <th>Title 1</th>\n",
              "    </tr>\n",
              "  </thead>\n",
              "  <tbody>\n",
              "    <tr>\n",
              "      <th>0</th>\n",
              "      <td>https://open-data.insideout.io/</td>\n",
              "      <td>200</td>\n",
              "      <td>connected-data.london – Workshop – AI-Powered SEO</td>\n",
              "    </tr>\n",
              "    <tr>\n",
              "      <th>1</th>\n",
              "      <td>https://open-data.insideout.io/2018/12/11/the-...</td>\n",
              "      <td>200</td>\n",
              "      <td>The Future of Data is Connected and Open Minde...</td>\n",
              "    </tr>\n",
              "    <tr>\n",
              "      <th>2</th>\n",
              "      <td>https://open-data.insideout.io/2019/07/01/life...</td>\n",
              "      <td>200</td>\n",
              "      <td>Life Sciences at Connected Data London 2019 – ...</td>\n",
              "    </tr>\n",
              "    <tr>\n",
              "      <th>3</th>\n",
              "      <td>https://open-data.insideout.io/2018/11/05/deep...</td>\n",
              "      <td>200</td>\n",
              "      <td>Deep link analysis drives machine learning at ...</td>\n",
              "    </tr>\n",
              "    <tr>\n",
              "      <th>4</th>\n",
              "      <td>https://open-data.insideout.io/2019/03/08/more...</td>\n",
              "      <td>200</td>\n",
              "      <td>More Connected, More Data, More London: Connec...</td>\n",
              "    </tr>\n",
              "  </tbody>\n",
              "</table>\n",
              "</div>"
            ],
            "text/plain": [
              "                                             Address  ...                                            Title 1\n",
              "0                    https://open-data.insideout.io/  ...  connected-data.london – Workshop – AI-Powered SEO\n",
              "1  https://open-data.insideout.io/2018/12/11/the-...  ...  The Future of Data is Connected and Open Minde...\n",
              "2  https://open-data.insideout.io/2019/07/01/life...  ...  Life Sciences at Connected Data London 2019 – ...\n",
              "3  https://open-data.insideout.io/2018/11/05/deep...  ...  Deep link analysis drives machine learning at ...\n",
              "4  https://open-data.insideout.io/2019/03/08/more...  ...  More Connected, More Data, More London: Connec...\n",
              "\n",
              "[5 rows x 3 columns]"
            ]
          },
          "metadata": {
            "tags": []
          },
          "execution_count": 6
        }
      ]
    },
    {
      "cell_type": "code",
      "metadata": {
        "id": "CJKSws1rpR3C",
        "colab_type": "code",
        "colab": {}
      },
      "source": [
        "# Creating df_new with the columns we need to store entity data\n",
        "\n",
        "df_new = pd.DataFrame(columns=['url', 'entities', 'types', 'total'])\n"
      ],
      "execution_count": 0,
      "outputs": []
    },
    {
      "cell_type": "markdown",
      "metadata": {
        "id": "WkfgTYhdL68y",
        "colab_type": "text"
      },
      "source": [
        "## Running the analysis \n",
        "\n",
        "In the next cells we have two functions:\n",
        "\n",
        "\n",
        "\n",
        "1.   `url_to_string` to get the text from a URL (make sure to update this one if you know the class that contains the body of the article) \n",
        "2.   `string_to_entities` to extract the named entities\n",
        "\n",
        "We will also test the extraction before analyzing the entire batch of URLs. \n",
        "\n",
        "> In the future the loop should take advantages of *threading* as it gets otherwise too slow when you have thousands of pages.\n"
      ]
    },
    {
      "cell_type": "code",
      "metadata": {
        "id": "O-wt5N4CpY76",
        "colab_type": "code",
        "colab": {}
      },
      "source": [
        "# Get clean text from URL\n",
        "\n",
        "def url_to_string(url):\n",
        "  try:\n",
        "    headers = {'User-Agent': 'Mozilla/5.0 (Windows NT 6.1; WOW64; rv:50.0) Gecko/20100101 Firefox/50.0'}\n",
        "    res = requests.get(url, headers=headers)\n",
        "    html = res.text\n",
        "    soup = BeautifulSoup(html, 'html5lib')\n",
        "    for script in soup([\"script\", \"style\", 'aside']):\n",
        "        script.extract()\n",
        "    \n",
        "    # uncomment the lines in the if/else block and comment the one after if you know the name of the class containing the article body \n",
        "    if isinstance(soup.find('div', {'class' :'content-inner'}), type(None)):\n",
        "      return \" \".join(re.split(r'[\\n\\t]+', soup.get_text()))\n",
        "    else:\n",
        "      return \" \".join(re.split(r'[\\n\\t]+', soup.find('div', {'class' :'content-inner'}).text)) \n",
        "    \n",
        "    #return \" \".join(re.split(r'[\\n\\t]+', soup.get_text()))\n",
        "\n",
        "  except requests.exceptions.HTTPError as err:\n",
        "    print(err)\n",
        "    sys.exit(1)\n",
        "    return err\n"
      ],
      "execution_count": 0,
      "outputs": []
    },
    {
      "cell_type": "code",
      "metadata": {
        "id": "hacQCVGBbPQL",
        "colab_type": "code",
        "colab": {}
      },
      "source": [
        "# Analyze text with SpaCy for named entity recognition\n",
        "\n",
        "def string_to_entities(text): \n",
        "  #ny_bb = url_to_string(nw_url)\n",
        "  article = nlp(text)\n",
        "  print(\"total number of entities:\", len(article.ents))\n",
        "  entity_data = [(x.text, x.label_) for x in article.ents]\n",
        "  return entity_data  "
      ],
      "execution_count": 0,
      "outputs": []
    },
    {
      "cell_type": "markdown",
      "metadata": {
        "id": "J7utwZHaOZQd",
        "colab_type": "text"
      },
      "source": [
        "### Choose a URL to run a test \n",
        "\n",
        "We will use here the entity visualizer, `ent`, highlights named entities and their labels in a text.\n",
        "\n",
        "Set the `url_test` variable to see how it works.  "
      ]
    },
    {
      "cell_type": "code",
      "metadata": {
        "id": "K5xA8Qxl5TVF",
        "colab_type": "code",
        "outputId": "e216fea8-88f6-4bb3-9d4f-8c4479497fee",
        "colab": {
          "base_uri": "https://localhost:8080/",
          "height": 964
        }
      },
      "source": [
        "# Visualizing detected entities from a single URL\n",
        "\n",
        "url_test = \"https://connected-data.london/sessions/from-knowledge-graphs-to-ai-powered-seo-using-taxonomies-schemas-and-knowledge-graphs-to-improve-search-engine-rankings-and-web-publishing-workflows/\" # pick up any url you like to analyze\n",
        "\n",
        "\n",
        "doc1 = nlp(url_to_string(url_test))\n",
        "print(\"total number of entities:\", len(doc1.ents))\n",
        "\n",
        "displacy.render(doc1, style=\"ent\", jupyter=True)\n",
        "\n",
        "\n",
        "\n"
      ],
      "execution_count": 0,
      "outputs": [
        {
          "output_type": "stream",
          "text": [
            "total number of entities: 84\n"
          ],
          "name": "stdout"
        },
        {
          "output_type": "display_data",
          "data": {
            "text/html": [
              "<div class=\"entities\" style=\"line-height: 2.5; direction: ltr\">From Knowledge Graphs to AI-powered \n",
              "<mark class=\"entity\" style=\"background: #7aecec; padding: 0.45em 0.6em; margin: 0 0.25em; line-height: 1; border-radius: 0.35em; box-decoration-break: clone; -webkit-box-decoration-break: clone\">\n",
              "    SEO\n",
              "    <span style=\"font-size: 0.8em; font-weight: bold; line-height: 1; border-radius: 0.35em; text-transform: uppercase; vertical-align: middle; margin-left: 0.5rem\">ORG</span>\n",
              "</mark>\n",
              ": Using taxonomies, schemas and knowledge graphs to improve search engine rankings and web publishing workflows «  \n",
              "<mark class=\"entity\" style=\"background: #aa9cfc; padding: 0.45em 0.6em; margin: 0 0.25em; line-height: 1; border-radius: 0.35em; box-decoration-break: clone; -webkit-box-decoration-break: clone\">\n",
              "    CDL2019                        \n",
              "    <span style=\"font-size: 0.8em; font-weight: bold; line-height: 1; border-radius: 0.35em; text-transform: uppercase; vertical-align: middle; margin-left: 0.5rem\">PERSON</span>\n",
              "</mark>\n",
              "SPEAKERSLATEST NEWSPAST EVENTSVENUECONTACT USCODE OF CONDUCTCONVINCE YOUR \n",
              "<mark class=\"entity\" style=\"background: #aa9cfc; padding: 0.45em 0.6em; margin: 0 0.25em; line-height: 1; border-radius: 0.35em; box-decoration-break: clone; -webkit-box-decoration-break: clone\">\n",
              "    MANAGERFrom Knowledge Graphs\n",
              "    <span style=\"font-size: 0.8em; font-weight: bold; line-height: 1; border-radius: 0.35em; text-transform: uppercase; vertical-align: middle; margin-left: 0.5rem\">PERSON</span>\n",
              "</mark>\n",
              " to AI-powered \n",
              "<mark class=\"entity\" style=\"background: #7aecec; padding: 0.45em 0.6em; margin: 0 0.25em; line-height: 1; border-radius: 0.35em; box-decoration-break: clone; -webkit-box-decoration-break: clone\">\n",
              "    SEO\n",
              "    <span style=\"font-size: 0.8em; font-weight: bold; line-height: 1; border-radius: 0.35em; text-transform: uppercase; vertical-align: middle; margin-left: 0.5rem\">ORG</span>\n",
              "</mark>\n",
              ": Using taxonomies, schemas and knowledge graphs to improve search engine rankings and web publishing workflows  Workshop Room 1  \n",
              "<mark class=\"entity\" style=\"background: #bfe1d9; padding: 0.45em 0.6em; margin: 0 0.25em; line-height: 1; border-radius: 0.35em; box-decoration-break: clone; -webkit-box-decoration-break: clone\">\n",
              "    October 3, 2019\n",
              "    <span style=\"font-size: 0.8em; font-weight: bold; line-height: 1; border-radius: 0.35em; text-transform: uppercase; vertical-align: middle; margin-left: 0.5rem\">DATE</span>\n",
              "</mark>\n",
              ", 1:30 pm-4:30 pm  \n",
              "<mark class=\"entity\" style=\"background: #aa9cfc; padding: 0.45em 0.6em; margin: 0 0.25em; line-height: 1; border-radius: 0.35em; box-decoration-break: clone; -webkit-box-decoration-break: clone\">\n",
              "    Andrea Volpini\n",
              "    <span style=\"font-size: 0.8em; font-weight: bold; line-height: 1; border-radius: 0.35em; text-transform: uppercase; vertical-align: middle; margin-left: 0.5rem\">PERSON</span>\n",
              "</mark>\n",
              " CEO, Wordlift Do you want to learn how to use the low-hanging fruit of knowledge graphs — schema.org and \n",
              "<mark class=\"entity\" style=\"background: #7aecec; padding: 0.45em 0.6em; margin: 0 0.25em; line-height: 1; border-radius: 0.35em; box-decoration-break: clone; -webkit-box-decoration-break: clone\">\n",
              "    JSON-LD\n",
              "    <span style=\"font-size: 0.8em; font-weight: bold; line-height: 1; border-radius: 0.35em; text-transform: uppercase; vertical-align: middle; margin-left: 0.5rem\">ORG</span>\n",
              "</mark>\n",
              " — to annotate content and improve your \n",
              "<mark class=\"entity\" style=\"background: #7aecec; padding: 0.45em 0.6em; margin: 0 0.25em; line-height: 1; border-radius: 0.35em; box-decoration-break: clone; -webkit-box-decoration-break: clone\">\n",
              "    SEO\n",
              "    <span style=\"font-size: 0.8em; font-weight: bold; line-height: 1; border-radius: 0.35em; text-transform: uppercase; vertical-align: middle; margin-left: 0.5rem\">ORG</span>\n",
              "</mark>\n",
              " with semantics and entities? This hands-on workshop with \n",
              "<mark class=\"entity\" style=\"background: #e4e7d2; padding: 0.45em 0.6em; margin: 0 0.25em; line-height: 1; border-radius: 0.35em; box-decoration-break: clone; -webkit-box-decoration-break: clone\">\n",
              "    one\n",
              "    <span style=\"font-size: 0.8em; font-weight: bold; line-height: 1; border-radius: 0.35em; text-transform: uppercase; vertical-align: middle; margin-left: 0.5rem\">CARDINAL</span>\n",
              "</mark>\n",
              " of the leading \n",
              "<mark class=\"entity\" style=\"background: #7aecec; padding: 0.45em 0.6em; margin: 0 0.25em; line-height: 1; border-radius: 0.35em; box-decoration-break: clone; -webkit-box-decoration-break: clone\">\n",
              "    Semantic SEO\n",
              "    <span style=\"font-size: 0.8em; font-weight: bold; line-height: 1; border-radius: 0.35em; text-transform: uppercase; vertical-align: middle; margin-left: 0.5rem\">ORG</span>\n",
              "</mark>\n",
              " practitioners will help you get started.Remember: \n",
              "<mark class=\"entity\" style=\"background: #7aecec; padding: 0.45em 0.6em; margin: 0 0.25em; line-height: 1; border-radius: 0.35em; box-decoration-break: clone; -webkit-box-decoration-break: clone\">\n",
              "    CDL\n",
              "    <span style=\"font-size: 0.8em; font-weight: bold; line-height: 1; border-radius: 0.35em; text-transform: uppercase; vertical-align: middle; margin-left: 0.5rem\">ORG</span>\n",
              "</mark>\n",
              " main program features more schema.org and \n",
              "<mark class=\"entity\" style=\"background: #7aecec; padding: 0.45em 0.6em; margin: 0 0.25em; line-height: 1; border-radius: 0.35em; box-decoration-break: clone; -webkit-box-decoration-break: clone\">\n",
              "    JSON-LD\n",
              "    <span style=\"font-size: 0.8em; font-weight: bold; line-height: 1; border-radius: 0.35em; text-transform: uppercase; vertical-align: middle; margin-left: 0.5rem\">ORG</span>\n",
              "</mark>\n",
              " greatness by \n",
              "<mark class=\"entity\" style=\"background: #c887fb; padding: 0.45em 0.6em; margin: 0 0.25em; line-height: 1; border-radius: 0.35em; box-decoration-break: clone; -webkit-box-decoration-break: clone\">\n",
              "    Yoast\n",
              "    <span style=\"font-size: 0.8em; font-weight: bold; line-height: 1; border-radius: 0.35em; text-transform: uppercase; vertical-align: middle; margin-left: 0.5rem\">NORP</span>\n",
              "</mark>\n",
              "’s \n",
              "<mark class=\"entity\" style=\"background: #aa9cfc; padding: 0.45em 0.6em; margin: 0 0.25em; line-height: 1; border-radius: 0.35em; box-decoration-break: clone; -webkit-box-decoration-break: clone\">\n",
              "    Jono Alderson\n",
              "    <span style=\"font-size: 0.8em; font-weight: bold; line-height: 1; border-radius: 0.35em; text-transform: uppercase; vertical-align: middle; margin-left: 0.5rem\">PERSON</span>\n",
              "</mark>\n",
              ", plus the likes of \n",
              "<mark class=\"entity\" style=\"background: #7aecec; padding: 0.45em 0.6em; margin: 0 0.25em; line-height: 1; border-radius: 0.35em; box-decoration-break: clone; -webkit-box-decoration-break: clone\">\n",
              "    Microsoft\n",
              "    <span style=\"font-size: 0.8em; font-weight: bold; line-height: 1; border-radius: 0.35em; text-transform: uppercase; vertical-align: middle; margin-left: 0.5rem\">ORG</span>\n",
              "</mark>\n",
              ", \n",
              "<mark class=\"entity\" style=\"background: #feca74; padding: 0.45em 0.6em; margin: 0 0.25em; line-height: 1; border-radius: 0.35em; box-decoration-break: clone; -webkit-box-decoration-break: clone\">\n",
              "    Uber\n",
              "    <span style=\"font-size: 0.8em; font-weight: bold; line-height: 1; border-radius: 0.35em; text-transform: uppercase; vertical-align: middle; margin-left: 0.5rem\">GPE</span>\n",
              "</mark>\n",
              ", \n",
              "<mark class=\"entity\" style=\"background: #7aecec; padding: 0.45em 0.6em; margin: 0 0.25em; line-height: 1; border-radius: 0.35em; box-decoration-break: clone; -webkit-box-decoration-break: clone\">\n",
              "    nVidia\n",
              "    <span style=\"font-size: 0.8em; font-weight: bold; line-height: 1; border-radius: 0.35em; text-transform: uppercase; vertical-align: middle; margin-left: 0.5rem\">ORG</span>\n",
              "</mark>\n",
              ", \n",
              "<mark class=\"entity\" style=\"background: #7aecec; padding: 0.45em 0.6em; margin: 0 0.25em; line-height: 1; border-radius: 0.35em; box-decoration-break: clone; -webkit-box-decoration-break: clone\">\n",
              "    Bayer\n",
              "    <span style=\"font-size: 0.8em; font-weight: bold; line-height: 1; border-radius: 0.35em; text-transform: uppercase; vertical-align: middle; margin-left: 0.5rem\">ORG</span>\n",
              "</mark>\n",
              ", \n",
              "<mark class=\"entity\" style=\"background: #7aecec; padding: 0.45em 0.6em; margin: 0 0.25em; line-height: 1; border-radius: 0.35em; box-decoration-break: clone; -webkit-box-decoration-break: clone\">\n",
              "    GSK\n",
              "    <span style=\"font-size: 0.8em; font-weight: bold; line-height: 1; border-radius: 0.35em; text-transform: uppercase; vertical-align: middle; margin-left: 0.5rem\">ORG</span>\n",
              "</mark>\n",
              ", and \n",
              "<mark class=\"entity\" style=\"background: #aa9cfc; padding: 0.45em 0.6em; margin: 0 0.25em; line-height: 1; border-radius: 0.35em; box-decoration-break: clone; -webkit-box-decoration-break: clone\">\n",
              "    JP Morgan\n",
              "    <span style=\"font-size: 0.8em; font-weight: bold; line-height: 1; border-radius: 0.35em; text-transform: uppercase; vertical-align: middle; margin-left: 0.5rem\">PERSON</span>\n",
              "</mark>\n",
              ", combo tickets on sale!Need to convince your manager? We got you a kit, start working on it! This workshop is kindly sponsored by \n",
              "<mark class=\"entity\" style=\"background: #7aecec; padding: 0.45em 0.6em; margin: 0 0.25em; line-height: 1; border-radius: 0.35em; box-decoration-break: clone; -webkit-box-decoration-break: clone\">\n",
              "    Wordlift – The Artificial Intelligence\n",
              "    <span style=\"font-size: 0.8em; font-weight: bold; line-height: 1; border-radius: 0.35em; text-transform: uppercase; vertical-align: middle; margin-left: 0.5rem\">ORG</span>\n",
              "</mark>\n",
              " you need to grow your audience. Wordlift is \n",
              "<mark class=\"entity\" style=\"background: #7aecec; padding: 0.45em 0.6em; margin: 0 0.25em; line-height: 1; border-radius: 0.35em; box-decoration-break: clone; -webkit-box-decoration-break: clone\">\n",
              "    a WordPress Plugin\n",
              "    <span style=\"font-size: 0.8em; font-weight: bold; line-height: 1; border-radius: 0.35em; text-transform: uppercase; vertical-align: middle; margin-left: 0.5rem\">ORG</span>\n",
              "</mark>\n",
              " that does what an \n",
              "<mark class=\"entity\" style=\"background: #7aecec; padding: 0.45em 0.6em; margin: 0 0.25em; line-height: 1; border-radius: 0.35em; box-decoration-break: clone; -webkit-box-decoration-break: clone\">\n",
              "    SEO\n",
              "    <span style=\"font-size: 0.8em; font-weight: bold; line-height: 1; border-radius: 0.35em; text-transform: uppercase; vertical-align: middle; margin-left: 0.5rem\">ORG</span>\n",
              "</mark>\n",
              " expert would do.Key TopicsSEO, Structured Data, \n",
              "<mark class=\"entity\" style=\"background: #aa9cfc; padding: 0.45em 0.6em; margin: 0 0.25em; line-height: 1; border-radius: 0.35em; box-decoration-break: clone; -webkit-box-decoration-break: clone\">\n",
              "    Knowledge Graphs\n",
              "    <span style=\"font-size: 0.8em; font-weight: bold; line-height: 1; border-radius: 0.35em; text-transform: uppercase; vertical-align: middle; margin-left: 0.5rem\">PERSON</span>\n",
              "</mark>\n",
              ", \n",
              "<mark class=\"entity\" style=\"background: #7aecec; padding: 0.45em 0.6em; margin: 0 0.25em; line-height: 1; border-radius: 0.35em; box-decoration-break: clone; -webkit-box-decoration-break: clone\">\n",
              "    OpenRefineTarget AudienceThe\n",
              "    <span style=\"font-size: 0.8em; font-weight: bold; line-height: 1; border-radius: 0.35em; text-transform: uppercase; vertical-align: middle; margin-left: 0.5rem\">ORG</span>\n",
              "</mark>\n",
              " tutorial will be of high value to marketeers with a data-centric approach, content creators and data practitioners who are (expected to be) involved in developing and/or enriching knowledge graphs to markup online content, to improve \n",
              "<mark class=\"entity\" style=\"background: #7aecec; padding: 0.45em 0.6em; margin: 0 0.25em; line-height: 1; border-radius: 0.35em; box-decoration-break: clone; -webkit-box-decoration-break: clone\">\n",
              "    SEO\n",
              "    <span style=\"font-size: 0.8em; font-weight: bold; line-height: 1; border-radius: 0.35em; text-transform: uppercase; vertical-align: middle; margin-left: 0.5rem\">ORG</span>\n",
              "</mark>\n",
              " (\n",
              "<mark class=\"entity\" style=\"background: #7aecec; padding: 0.45em 0.6em; margin: 0 0.25em; line-height: 1; border-radius: 0.35em; box-decoration-break: clone; -webkit-box-decoration-break: clone\">\n",
              "    Marketeers\n",
              "    <span style=\"font-size: 0.8em; font-weight: bold; line-height: 1; border-radius: 0.35em; text-transform: uppercase; vertical-align: middle; margin-left: 0.5rem\">ORG</span>\n",
              "</mark>\n",
              ", SEOs, \n",
              "<mark class=\"entity\" style=\"background: #7aecec; padding: 0.45em 0.6em; margin: 0 0.25em; line-height: 1; border-radius: 0.35em; box-decoration-break: clone; -webkit-box-decoration-break: clone\">\n",
              "    Content Creators,\n",
              "    <span style=\"font-size: 0.8em; font-weight: bold; line-height: 1; border-radius: 0.35em; text-transform: uppercase; vertical-align: middle; margin-left: 0.5rem\">ORG</span>\n",
              "</mark>\n",
              " Information Architects, \n",
              "<mark class=\"entity\" style=\"background: #7aecec; padding: 0.45em 0.6em; margin: 0 0.25em; line-height: 1; border-radius: 0.35em; box-decoration-break: clone; -webkit-box-decoration-break: clone\">\n",
              "    Data Modelers\n",
              "    <span style=\"font-size: 0.8em; font-weight: bold; line-height: 1; border-radius: 0.35em; text-transform: uppercase; vertical-align: middle; margin-left: 0.5rem\">ORG</span>\n",
              "</mark>\n",
              ", etc) and to grow online businesses.LevelIntermediatePrerequisite \n",
              "<mark class=\"entity\" style=\"background: #aa9cfc; padding: 0.45em 0.6em; margin: 0 0.25em; line-height: 1; border-radius: 0.35em; box-decoration-break: clone; -webkit-box-decoration-break: clone\">\n",
              "    KnowledgeThe\n",
              "    <span style=\"font-size: 0.8em; font-weight: bold; line-height: 1; border-radius: 0.35em; text-transform: uppercase; vertical-align: middle; margin-left: 0.5rem\">PERSON</span>\n",
              "</mark>\n",
              " tutorial will be self-contained but participants should have some prior knowledge of linked data, structured data markup and the schema or vocabulary.\n",
              "<mark class=\"entity\" style=\"background: #7aecec; padding: 0.45em 0.6em; margin: 0 0.25em; line-height: 1; border-radius: 0.35em; box-decoration-break: clone; -webkit-box-decoration-break: clone\">\n",
              "    Hardware &amp; Software RequirementsBring\n",
              "    <span style=\"font-size: 0.8em; font-weight: bold; line-height: 1; border-radius: 0.35em; text-transform: uppercase; vertical-align: middle; margin-left: 0.5rem\">ORG</span>\n",
              "</mark>\n",
              " your own laptop. A modern web browser is required.What you’ll learnAfter this tutorial participants will be more aware of structured / linked data and \n",
              "<mark class=\"entity\" style=\"background: #7aecec; padding: 0.45em 0.6em; margin: 0 0.25em; line-height: 1; border-radius: 0.35em; box-decoration-break: clone; -webkit-box-decoration-break: clone\">\n",
              "    Semantic SEO\n",
              "    <span style=\"font-size: 0.8em; font-weight: bold; line-height: 1; border-radius: 0.35em; text-transform: uppercase; vertical-align: middle; margin-left: 0.5rem\">ORG</span>\n",
              "</mark>\n",
              ". They will be equipped with concrete strategies and techniques to leverage on public graphs such as \n",
              "<mark class=\"entity\" style=\"background: #c887fb; padding: 0.45em 0.6em; margin: 0 0.25em; line-height: 1; border-radius: 0.35em; box-decoration-break: clone; -webkit-box-decoration-break: clone\">\n",
              "    Wikidata\n",
              "    <span style=\"font-size: 0.8em; font-weight: bold; line-height: 1; border-radius: 0.35em; text-transform: uppercase; vertical-align: middle; margin-left: 0.5rem\">NORP</span>\n",
              "</mark>\n",
              " and DBpedia for their own projects. They will also learn how existing data – within their organization – can be used in semantic markup, \n",
              "<mark class=\"entity\" style=\"background: #7aecec; padding: 0.45em 0.6em; margin: 0 0.25em; line-height: 1; border-radius: 0.35em; box-decoration-break: clone; -webkit-box-decoration-break: clone\">\n",
              "    SEO\n",
              "    <span style=\"font-size: 0.8em; font-weight: bold; line-height: 1; border-radius: 0.35em; text-transform: uppercase; vertical-align: middle; margin-left: 0.5rem\">ORG</span>\n",
              "</mark>\n",
              " and web analytics.\n",
              "<mark class=\"entity\" style=\"background: #7aecec; padding: 0.45em 0.6em; margin: 0 0.25em; line-height: 1; border-radius: 0.35em; box-decoration-break: clone; -webkit-box-decoration-break: clone\">\n",
              "    DescriptionEver\n",
              "    <span style=\"font-size: 0.8em; font-weight: bold; line-height: 1; border-radius: 0.35em; text-transform: uppercase; vertical-align: middle; margin-left: 0.5rem\">ORG</span>\n",
              "</mark>\n",
              " since schema.org was announced and search engines transitioned from being “tools that help us find relevant content” into “cognitive applications that are capable of answering questions”, the way that content is conceived, organized and promoted online has changed significantly. Practices in the digital marketing space and more specifically in the \n",
              "<mark class=\"entity\" style=\"background: #7aecec; padding: 0.45em 0.6em; margin: 0 0.25em; line-height: 1; border-radius: 0.35em; box-decoration-break: clone; -webkit-box-decoration-break: clone\">\n",
              "    SEO\n",
              "    <span style=\"font-size: 0.8em; font-weight: bold; line-height: 1; border-radius: 0.35em; text-transform: uppercase; vertical-align: middle; margin-left: 0.5rem\">ORG</span>\n",
              "</mark>\n",
              " industry have evolved accordingly.\n",
              "<mark class=\"entity\" style=\"background: #7aecec; padding: 0.45em 0.6em; margin: 0 0.25em; line-height: 1; border-radius: 0.35em; box-decoration-break: clone; -webkit-box-decoration-break: clone\">\n",
              "    Google\n",
              "    <span style=\"font-size: 0.8em; font-weight: bold; line-height: 1; border-radius: 0.35em; text-transform: uppercase; vertical-align: middle; margin-left: 0.5rem\">ORG</span>\n",
              "</mark>\n",
              " had a massive impact in making the content industry aware of how semantics, linked data and knowledge graphs can inform the user experience. From \n",
              "<mark class=\"entity\" style=\"background: #7aecec; padding: 0.45em 0.6em; margin: 0 0.25em; line-height: 1; border-radius: 0.35em; box-decoration-break: clone; -webkit-box-decoration-break: clone\">\n",
              "    Google Search\n",
              "    <span style=\"font-size: 0.8em; font-weight: bold; line-height: 1; border-radius: 0.35em; text-transform: uppercase; vertical-align: middle; margin-left: 0.5rem\">ORG</span>\n",
              "</mark>\n",
              " to \n",
              "<mark class=\"entity\" style=\"background: #7aecec; padding: 0.45em 0.6em; margin: 0 0.25em; line-height: 1; border-radius: 0.35em; box-decoration-break: clone; -webkit-box-decoration-break: clone\">\n",
              "    Google Discover\n",
              "    <span style=\"font-size: 0.8em; font-weight: bold; line-height: 1; border-radius: 0.35em; text-transform: uppercase; vertical-align: middle; margin-left: 0.5rem\">ORG</span>\n",
              "</mark>\n",
              ", from \n",
              "<mark class=\"entity\" style=\"background: #7aecec; padding: 0.45em 0.6em; margin: 0 0.25em; line-height: 1; border-radius: 0.35em; box-decoration-break: clone; -webkit-box-decoration-break: clone\">\n",
              "    Alexa\n",
              "    <span style=\"font-size: 0.8em; font-weight: bold; line-height: 1; border-radius: 0.35em; text-transform: uppercase; vertical-align: middle; margin-left: 0.5rem\">ORG</span>\n",
              "</mark>\n",
              " to the \n",
              "<mark class=\"entity\" style=\"background: #7aecec; padding: 0.45em 0.6em; margin: 0 0.25em; line-height: 1; border-radius: 0.35em; box-decoration-break: clone; -webkit-box-decoration-break: clone\">\n",
              "    Google\n",
              "    <span style=\"font-size: 0.8em; font-weight: bold; line-height: 1; border-radius: 0.35em; text-transform: uppercase; vertical-align: middle; margin-left: 0.5rem\">ORG</span>\n",
              "</mark>\n",
              " Assistant data is powering end-to-end the interactions in a new AI-\n",
              "<mark class=\"entity\" style=\"background: #e4e7d2; padding: 0.45em 0.6em; margin: 0 0.25em; line-height: 1; border-radius: 0.35em; box-decoration-break: clone; -webkit-box-decoration-break: clone\">\n",
              "    first\n",
              "    <span style=\"font-size: 0.8em; font-weight: bold; line-height: 1; border-radius: 0.35em; text-transform: uppercase; vertical-align: middle; margin-left: 0.5rem\">ORDINAL</span>\n",
              "</mark>\n",
              " digital environment.While several large organizations, including \n",
              "<mark class=\"entity\" style=\"background: #feca74; padding: 0.45em 0.6em; margin: 0 0.25em; line-height: 1; border-radius: 0.35em; box-decoration-break: clone; -webkit-box-decoration-break: clone\">\n",
              "    Airbnb\n",
              "    <span style=\"font-size: 0.8em; font-weight: bold; line-height: 1; border-radius: 0.35em; text-transform: uppercase; vertical-align: middle; margin-left: 0.5rem\">GPE</span>\n",
              "</mark>\n",
              ", \n",
              "<mark class=\"entity\" style=\"background: #7aecec; padding: 0.45em 0.6em; margin: 0 0.25em; line-height: 1; border-radius: 0.35em; box-decoration-break: clone; -webkit-box-decoration-break: clone\">\n",
              "    Amazon\n",
              "    <span style=\"font-size: 0.8em; font-weight: bold; line-height: 1; border-radius: 0.35em; text-transform: uppercase; vertical-align: middle; margin-left: 0.5rem\">ORG</span>\n",
              "</mark>\n",
              ", \n",
              "<mark class=\"entity\" style=\"background: #7aecec; padding: 0.45em 0.6em; margin: 0 0.25em; line-height: 1; border-radius: 0.35em; box-decoration-break: clone; -webkit-box-decoration-break: clone\">\n",
              "    Linkedln\n",
              "    <span style=\"font-size: 0.8em; font-weight: bold; line-height: 1; border-radius: 0.35em; text-transform: uppercase; vertical-align: middle; margin-left: 0.5rem\">ORG</span>\n",
              "</mark>\n",
              ", and \n",
              "<mark class=\"entity\" style=\"background: #feca74; padding: 0.45em 0.6em; margin: 0 0.25em; line-height: 1; border-radius: 0.35em; box-decoration-break: clone; -webkit-box-decoration-break: clone\">\n",
              "    Zalando\n",
              "    <span style=\"font-size: 0.8em; font-weight: bold; line-height: 1; border-radius: 0.35em; text-transform: uppercase; vertical-align: middle; margin-left: 0.5rem\">GPE</span>\n",
              "</mark>\n",
              ", had invested in creating their own knowledge graphs for data integration, data analytics, semanbc search and other applications, \n",
              "<mark class=\"entity\" style=\"background: #7aecec; padding: 0.45em 0.6em; margin: 0 0.25em; line-height: 1; border-radius: 0.35em; box-decoration-break: clone; -webkit-box-decoration-break: clone\">\n",
              "    WordLift’s\n",
              "    <span style=\"font-size: 0.8em; font-weight: bold; line-height: 1; border-radius: 0.35em; text-transform: uppercase; vertical-align: middle; margin-left: 0.5rem\">ORG</span>\n",
              "</mark>\n",
              " mission has always been to use linked knowledge for promoting and organizing web content (or more simply to improve \n",
              "<mark class=\"entity\" style=\"background: #7aecec; padding: 0.45em 0.6em; margin: 0 0.25em; line-height: 1; border-radius: 0.35em; box-decoration-break: clone; -webkit-box-decoration-break: clone\">\n",
              "    SEO\n",
              "    <span style=\"font-size: 0.8em; font-weight: bold; line-height: 1; border-radius: 0.35em; text-transform: uppercase; vertical-align: middle; margin-left: 0.5rem\">ORG</span>\n",
              "</mark>\n",
              " and how content can be found by search engines, personal digital assistants and content discovery platforms).This tutorial will take participants into a deep dive in \n",
              "<mark class=\"entity\" style=\"background: #ff9561; padding: 0.45em 0.6em; margin: 0 0.25em; line-height: 1; border-radius: 0.35em; box-decoration-break: clone; -webkit-box-decoration-break: clone\">\n",
              "    Semantic SEO\n",
              "    <span style=\"font-size: 0.8em; font-weight: bold; line-height: 1; border-radius: 0.35em; text-transform: uppercase; vertical-align: middle; margin-left: 0.5rem\">LOC</span>\n",
              "</mark>\n",
              " and teach them how to build linked data that search engines can use to properly understand the content of websites. More importantly, it will provide them with concrete strategies on how this same data can also be used internally for improving the understanding of the traffic on their website and/or for other use cases (i.e. chatbots, content recommendations, …).Session outline:The tutorial will consist of \n",
              "<mark class=\"entity\" style=\"background: #e4e7d2; padding: 0.45em 0.6em; margin: 0 0.25em; line-height: 1; border-radius: 0.35em; box-decoration-break: clone; -webkit-box-decoration-break: clone\">\n",
              "    two\n",
              "    <span style=\"font-size: 0.8em; font-weight: bold; line-height: 1; border-radius: 0.35em; text-transform: uppercase; vertical-align: middle; margin-left: 0.5rem\">CARDINAL</span>\n",
              "</mark>\n",
              " parts. The \n",
              "<mark class=\"entity\" style=\"background: #e4e7d2; padding: 0.45em 0.6em; margin: 0 0.25em; line-height: 1; border-radius: 0.35em; box-decoration-break: clone; -webkit-box-decoration-break: clone\">\n",
              "    first\n",
              "    <span style=\"font-size: 0.8em; font-weight: bold; line-height: 1; border-radius: 0.35em; text-transform: uppercase; vertical-align: middle; margin-left: 0.5rem\">ORDINAL</span>\n",
              "</mark>\n",
              " part will be lecture-based and will ensure that all participants share some common understanding and mindset about \n",
              "<mark class=\"entity\" style=\"background: #7aecec; padding: 0.45em 0.6em; margin: 0 0.25em; line-height: 1; border-radius: 0.35em; box-decoration-break: clone; -webkit-box-decoration-break: clone\">\n",
              "    Semantic SEQ\n",
              "    <span style=\"font-size: 0.8em; font-weight: bold; line-height: 1; border-radius: 0.35em; text-transform: uppercase; vertical-align: middle; margin-left: 0.5rem\">ORG</span>\n",
              "</mark>\n",
              " and structured data. This is important as practitioners might have different backgrounds and different roles (\n",
              "<mark class=\"entity\" style=\"background: #7aecec; padding: 0.45em 0.6em; margin: 0 0.25em; line-height: 1; border-radius: 0.35em; box-decoration-break: clone; -webkit-box-decoration-break: clone\">\n",
              "    Marketeers\n",
              "    <span style=\"font-size: 0.8em; font-weight: bold; line-height: 1; border-radius: 0.35em; text-transform: uppercase; vertical-align: middle; margin-left: 0.5rem\">ORG</span>\n",
              "</mark>\n",
              ", SEOs, \n",
              "<mark class=\"entity\" style=\"background: #7aecec; padding: 0.45em 0.6em; margin: 0 0.25em; line-height: 1; border-radius: 0.35em; box-decoration-break: clone; -webkit-box-decoration-break: clone\">\n",
              "    Content Creators,\n",
              "    <span style=\"font-size: 0.8em; font-weight: bold; line-height: 1; border-radius: 0.35em; text-transform: uppercase; vertical-align: middle; margin-left: 0.5rem\">ORG</span>\n",
              "</mark>\n",
              " Information Architects, \n",
              "<mark class=\"entity\" style=\"background: #7aecec; padding: 0.45em 0.6em; margin: 0 0.25em; line-height: 1; border-radius: 0.35em; box-decoration-break: clone; -webkit-box-decoration-break: clone\">\n",
              "    Data Scientists\n",
              "    <span style=\"font-size: 0.8em; font-weight: bold; line-height: 1; border-radius: 0.35em; text-transform: uppercase; vertical-align: middle; margin-left: 0.5rem\">ORG</span>\n",
              "</mark>\n",
              ", etc)..The \n",
              "<mark class=\"entity\" style=\"background: #e4e7d2; padding: 0.45em 0.6em; margin: 0 0.25em; line-height: 1; border-radius: 0.35em; box-decoration-break: clone; -webkit-box-decoration-break: clone\">\n",
              "    second\n",
              "    <span style=\"font-size: 0.8em; font-weight: bold; line-height: 1; border-radius: 0.35em; text-transform: uppercase; vertical-align: middle; margin-left: 0.5rem\">ORDINAL</span>\n",
              "</mark>\n",
              " part will be highly collaborative and interactive. The participants will form small teams, each of which will choose a reference website and will start with a “semantic audit” using python (code will be made available in iPython). Each team will then extract a selection of the most common named entities on the website that will be enriched using \n",
              "<mark class=\"entity\" style=\"background: #7aecec; padding: 0.45em 0.6em; margin: 0 0.25em; line-height: 1; border-radius: 0.35em; box-decoration-break: clone; -webkit-box-decoration-break: clone\">\n",
              "    OpenRefine\n",
              "    <span style=\"font-size: 0.8em; font-weight: bold; line-height: 1; border-radius: 0.35em; text-transform: uppercase; vertical-align: middle; margin-left: 0.5rem\">ORG</span>\n",
              "</mark>\n",
              " with queries back and forth against \n",
              "<mark class=\"entity\" style=\"background: #7aecec; padding: 0.45em 0.6em; margin: 0 0.25em; line-height: 1; border-radius: 0.35em; box-decoration-break: clone; -webkit-box-decoration-break: clone\">\n",
              "    DBpedia\n",
              "    <span style=\"font-size: 0.8em; font-weight: bold; line-height: 1; border-radius: 0.35em; text-transform: uppercase; vertical-align: middle; margin-left: 0.5rem\">ORG</span>\n",
              "</mark>\n",
              " and \n",
              "<mark class=\"entity\" style=\"background: #feca74; padding: 0.45em 0.6em; margin: 0 0.25em; line-height: 1; border-radius: 0.35em; box-decoration-break: clone; -webkit-box-decoration-break: clone\">\n",
              "    Wikidata\n",
              "    <span style=\"font-size: 0.8em; font-weight: bold; line-height: 1; border-radius: 0.35em; text-transform: uppercase; vertical-align: middle; margin-left: 0.5rem\">GPE</span>\n",
              "</mark>\n",
              ". Finally, one of the resulting datasets will be injected in the form of \n",
              "<mark class=\"entity\" style=\"background: #7aecec; padding: 0.45em 0.6em; margin: 0 0.25em; line-height: 1; border-radius: 0.35em; box-decoration-break: clone; -webkit-box-decoration-break: clone\">\n",
              "    JSON-LD\n",
              "    <span style=\"font-size: 0.8em; font-weight: bold; line-height: 1; border-radius: 0.35em; text-transform: uppercase; vertical-align: middle; margin-left: 0.5rem\">ORG</span>\n",
              "</mark>\n",
              " to enrich the content of a website.Sample schedule:* \n",
              "<mark class=\"entity\" style=\"background: #bfe1d9; padding: 0.45em 0.6em; margin: 0 0.25em; line-height: 1; border-radius: 0.35em; box-decoration-break: clone; -webkit-box-decoration-break: clone\">\n",
              "    9:30 – 9:40\n",
              "    <span style=\"font-size: 0.8em; font-weight: bold; line-height: 1; border-radius: 0.35em; text-transform: uppercase; vertical-align: middle; margin-left: 0.5rem\">TIME</span>\n",
              "</mark>\n",
              " – Introductions (\n",
              "<mark class=\"entity\" style=\"background: #e4e7d2; padding: 0.45em 0.6em; margin: 0 0.25em; line-height: 1; border-radius: 0.35em; box-decoration-break: clone; -webkit-box-decoration-break: clone\">\n",
              "    10 min)Participants\n",
              "    <span style=\"font-size: 0.8em; font-weight: bold; line-height: 1; border-radius: 0.35em; text-transform: uppercase; vertical-align: middle; margin-left: 0.5rem\">QUANTITY</span>\n",
              "</mark>\n",
              " introduction Goals and scope of the tutorial* \n",
              "<mark class=\"entity\" style=\"background: #bfe1d9; padding: 0.45em 0.6em; margin: 0 0.25em; line-height: 1; border-radius: 0.35em; box-decoration-break: clone; -webkit-box-decoration-break: clone\">\n",
              "    9:40 – 10:00\n",
              "    <span style=\"font-size: 0.8em; font-weight: bold; line-height: 1; border-radius: 0.35em; text-transform: uppercase; vertical-align: middle; margin-left: 0.5rem\">TIME</span>\n",
              "</mark>\n",
              " – Semantic SEO and \n",
              "<mark class=\"entity\" style=\"background: #7aecec; padding: 0.45em 0.6em; margin: 0 0.25em; line-height: 1; border-radius: 0.35em; box-decoration-break: clone; -webkit-box-decoration-break: clone\">\n",
              "    Structured Linked Data\n",
              "    <span style=\"font-size: 0.8em; font-weight: bold; line-height: 1; border-radius: 0.35em; text-transform: uppercase; vertical-align: middle; margin-left: 0.5rem\">ORG</span>\n",
              "</mark>\n",
              " (\n",
              "<mark class=\"entity\" style=\"background: #e4e7d2; padding: 0.45em 0.6em; margin: 0 0.25em; line-height: 1; border-radius: 0.35em; box-decoration-break: clone; -webkit-box-decoration-break: clone\">\n",
              "    50\n",
              "    <span style=\"font-size: 0.8em; font-weight: bold; line-height: 1; border-radius: 0.35em; text-transform: uppercase; vertical-align: middle; margin-left: 0.5rem\">CARDINAL</span>\n",
              "</mark>\n",
              " min)Elements of \n",
              "<mark class=\"entity\" style=\"background: #7aecec; padding: 0.45em 0.6em; margin: 0 0.25em; line-height: 1; border-radius: 0.35em; box-decoration-break: clone; -webkit-box-decoration-break: clone\">\n",
              "    Modern SEO\n",
              "    <span style=\"font-size: 0.8em; font-weight: bold; line-height: 1; border-radius: 0.35em; text-transform: uppercase; vertical-align: middle; margin-left: 0.5rem\">ORG</span>\n",
              "</mark>\n",
              " and how machine learning and linked data are used in \n",
              "<mark class=\"entity\" style=\"background: #7aecec; padding: 0.45em 0.6em; margin: 0 0.25em; line-height: 1; border-radius: 0.35em; box-decoration-break: clone; -webkit-box-decoration-break: clone\">\n",
              "    Google Images\n",
              "    <span style=\"font-size: 0.8em; font-weight: bold; line-height: 1; border-radius: 0.35em; text-transform: uppercase; vertical-align: middle; margin-left: 0.5rem\">ORG</span>\n",
              "</mark>\n",
              ", \n",
              "<mark class=\"entity\" style=\"background: #7aecec; padding: 0.45em 0.6em; margin: 0 0.25em; line-height: 1; border-radius: 0.35em; box-decoration-break: clone; -webkit-box-decoration-break: clone\">\n",
              "    Google\n",
              "    <span style=\"font-size: 0.8em; font-weight: bold; line-height: 1; border-radius: 0.35em; text-transform: uppercase; vertical-align: middle; margin-left: 0.5rem\">ORG</span>\n",
              "</mark>\n",
              " Assistant and \n",
              "<mark class=\"entity\" style=\"background: #7aecec; padding: 0.45em 0.6em; margin: 0 0.25em; line-height: 1; border-radius: 0.35em; box-decoration-break: clone; -webkit-box-decoration-break: clone\">\n",
              "    Google Discover\n",
              "    <span style=\"font-size: 0.8em; font-weight: bold; line-height: 1; border-radius: 0.35em; text-transform: uppercase; vertical-align: middle; margin-left: 0.5rem\">ORG</span>\n",
              "</mark>\n",
              ". Why structured / linked data is important What to expect from marking up your website How to run \n",
              "<mark class=\"entity\" style=\"background: #7aecec; padding: 0.45em 0.6em; margin: 0 0.25em; line-height: 1; border-radius: 0.35em; box-decoration-break: clone; -webkit-box-decoration-break: clone\">\n",
              "    a Semantic Audit\n",
              "    <span style=\"font-size: 0.8em; font-weight: bold; line-height: 1; border-radius: 0.35em; text-transform: uppercase; vertical-align: middle; margin-left: 0.5rem\">ORG</span>\n",
              "</mark>\n",
              " of a website* \n",
              "<mark class=\"entity\" style=\"background: #bfe1d9; padding: 0.45em 0.6em; margin: 0 0.25em; line-height: 1; border-radius: 0.35em; box-decoration-break: clone; -webkit-box-decoration-break: clone\">\n",
              "    10:30\n",
              "    <span style=\"font-size: 0.8em; font-weight: bold; line-height: 1; border-radius: 0.35em; text-transform: uppercase; vertical-align: middle; margin-left: 0.5rem\">TIME</span>\n",
              "</mark>\n",
              " – 10:45 – Break (15 min)* \n",
              "<mark class=\"entity\" style=\"background: #bfe1d9; padding: 0.45em 0.6em; margin: 0 0.25em; line-height: 1; border-radius: 0.35em; box-decoration-break: clone; -webkit-box-decoration-break: clone\">\n",
              "    10:45 –\n",
              "    <span style=\"font-size: 0.8em; font-weight: bold; line-height: 1; border-radius: 0.35em; text-transform: uppercase; vertical-align: middle; margin-left: 0.5rem\">TIME</span>\n",
              "</mark>\n",
              " 12:15 – From entities and graphs to \n",
              "<mark class=\"entity\" style=\"background: #7aecec; padding: 0.45em 0.6em; margin: 0 0.25em; line-height: 1; border-radius: 0.35em; box-decoration-break: clone; -webkit-box-decoration-break: clone\">\n",
              "    JSON-LD\n",
              "    <span style=\"font-size: 0.8em; font-weight: bold; line-height: 1; border-radius: 0.35em; text-transform: uppercase; vertical-align: middle; margin-left: 0.5rem\">ORG</span>\n",
              "</mark>\n",
              " (\n",
              "<mark class=\"entity\" style=\"background: #e4e7d2; padding: 0.45em 0.6em; margin: 0 0.25em; line-height: 1; border-radius: 0.35em; box-decoration-break: clone; -webkit-box-decoration-break: clone\">\n",
              "    90\n",
              "    <span style=\"font-size: 0.8em; font-weight: bold; line-height: 1; border-radius: 0.35em; text-transform: uppercase; vertical-align: middle; margin-left: 0.5rem\">CARDINAL</span>\n",
              "</mark>\n",
              " min)Extracting the most relevant entities of a website \n",
              "<mark class=\"entity\" style=\"background: #7aecec; padding: 0.45em 0.6em; margin: 0 0.25em; line-height: 1; border-radius: 0.35em; box-decoration-break: clone; -webkit-box-decoration-break: clone\">\n",
              "    Enriching\n",
              "    <span style=\"font-size: 0.8em; font-weight: bold; line-height: 1; border-radius: 0.35em; text-transform: uppercase; vertical-align: middle; margin-left: 0.5rem\">ORG</span>\n",
              "</mark>\n",
              " data with the help of \n",
              "<mark class=\"entity\" style=\"background: #feca74; padding: 0.45em 0.6em; margin: 0 0.25em; line-height: 1; border-radius: 0.35em; box-decoration-break: clone; -webkit-box-decoration-break: clone\">\n",
              "    DBpedia\n",
              "    <span style=\"font-size: 0.8em; font-weight: bold; line-height: 1; border-radius: 0.35em; text-transform: uppercase; vertical-align: middle; margin-left: 0.5rem\">GPE</span>\n",
              "</mark>\n",
              " and \n",
              "<mark class=\"entity\" style=\"background: #feca74; padding: 0.45em 0.6em; margin: 0 0.25em; line-height: 1; border-radius: 0.35em; box-decoration-break: clone; -webkit-box-decoration-break: clone\">\n",
              "    Wikidata\n",
              "    <span style=\"font-size: 0.8em; font-weight: bold; line-height: 1; border-radius: 0.35em; text-transform: uppercase; vertical-align: middle; margin-left: 0.5rem\">GPE</span>\n",
              "</mark>\n",
              " using \n",
              "<mark class=\"entity\" style=\"background: #7aecec; padding: 0.45em 0.6em; margin: 0 0.25em; line-height: 1; border-radius: 0.35em; box-decoration-break: clone; -webkit-box-decoration-break: clone\">\n",
              "    OpenRefine Figuring\n",
              "    <span style=\"font-size: 0.8em; font-weight: bold; line-height: 1; border-radius: 0.35em; text-transform: uppercase; vertical-align: middle; margin-left: 0.5rem\">ORG</span>\n",
              "</mark>\n",
              " how to re-use the data to markup the pages Evaluating how to re-use the data for web analytics and content recommendations* \n",
              "<mark class=\"entity\" style=\"background: #bfe1d9; padding: 0.45em 0.6em; margin: 0 0.25em; line-height: 1; border-radius: 0.35em; box-decoration-break: clone; -webkit-box-decoration-break: clone\">\n",
              "    12:15 –\n",
              "    <span style=\"font-size: 0.8em; font-weight: bold; line-height: 1; border-radius: 0.35em; text-transform: uppercase; vertical-align: middle; margin-left: 0.5rem\">TIME</span>\n",
              "</mark>\n",
              " \n",
              "<mark class=\"entity\" style=\"background: #bfe1d9; padding: 0.45em 0.6em; margin: 0 0.25em; line-height: 1; border-radius: 0.35em; box-decoration-break: clone; -webkit-box-decoration-break: clone\">\n",
              "    12:30\n",
              "    <span style=\"font-size: 0.8em; font-weight: bold; line-height: 1; border-radius: 0.35em; text-transform: uppercase; vertical-align: middle; margin-left: 0.5rem\">TIME</span>\n",
              "</mark>\n",
              " – ConclusionTake-Aways Additional resourcesWe built our workshops based on a set of simple principles, to make sure you get the most out of them:Sessions will strike a balance between providing necessary background and being hands-on.The tools we will use for the hands-on part are free and/or open source.Minimum requirements in terms of equipment or knowledge/skills attendants should have are clearly stated.The material used is part of the package and will be made available to attendants. \n",
              "<mark class=\"entity\" style=\"background: #aa9cfc; padding: 0.45em 0.6em; margin: 0 0.25em; line-height: 1; border-radius: 0.35em; box-decoration-break: clone; -webkit-box-decoration-break: clone\">\n",
              "    Knowledge Graph Lab   \n",
              "    <span style=\"font-size: 0.8em; font-weight: bold; line-height: 1; border-radius: 0.35em; text-transform: uppercase; vertical-align: middle; margin-left: 0.5rem\">PERSON</span>\n",
              "</mark>\n",
              "© Copyright 2017 - 2019 Connected Data - a trading name of \n",
              "<mark class=\"entity\" style=\"background: #7aecec; padding: 0.45em 0.6em; margin: 0 0.25em; line-height: 1; border-radius: 0.35em; box-decoration-break: clone; -webkit-box-decoration-break: clone\">\n",
              "    Neural Alpha Ltd\n",
              "    <span style=\"font-size: 0.8em; font-weight: bold; line-height: 1; border-radius: 0.35em; text-transform: uppercase; vertical-align: middle; margin-left: 0.5rem\">ORG</span>\n",
              "</mark>\n",
              ".Powered by \n",
              "<mark class=\"entity\" style=\"background: #bfeeb7; padding: 0.45em 0.6em; margin: 0 0.25em; line-height: 1; border-radius: 0.35em; box-decoration-break: clone; -webkit-box-decoration-break: clone\">\n",
              "    Fudge 2.0\n",
              "    <span style=\"font-size: 0.8em; font-weight: bold; line-height: 1; border-radius: 0.35em; text-transform: uppercase; vertical-align: middle; margin-left: 0.5rem\">PRODUCT</span>\n",
              "</mark>\n",
              " by \n",
              "<mark class=\"entity\" style=\"background: #7aecec; padding: 0.45em 0.6em; margin: 0 0.25em; line-height: 1; border-radius: 0.35em; box-decoration-break: clone; -webkit-box-decoration-break: clone\">\n",
              "    Showthemes\n",
              "    <span style=\"font-size: 0.8em; font-weight: bold; line-height: 1; border-radius: 0.35em; text-transform: uppercase; vertical-align: middle; margin-left: 0.5rem\">ORG</span>\n",
              "</mark>\n",
              "                     This site uses cookies: Find out more.Okay, thanks</div>"
            ],
            "text/plain": [
              "<IPython.core.display.HTML object>"
            ]
          },
          "metadata": {
            "tags": []
          }
        }
      ]
    },
    {
      "cell_type": "code",
      "metadata": {
        "id": "KvZQU8ZVpbm1",
        "colab_type": "code",
        "outputId": "de9dfccb-f15a-4b71-d43d-9129f89692a1",
        "colab": {
          "base_uri": "https://localhost:8080/",
          "height": 1000
        }
      },
      "source": [
        "# Analyze each URL and store top 5 entities for each article\n",
        "\n",
        "logging.basicConfig(level=logging.INFO, format='%(asctime)s - %(name)s - %(levelname)s - %(message)s')\n",
        "\n",
        "logger = logging.getLogger(__name__)\n",
        "ts = time()\n",
        "\n",
        "for k in range(len(df)): \n",
        "\n",
        "#for k in range(5): # Use this to analyze only a limited number of pages\n",
        "    \n",
        "    nw_url = df.loc[k][0]\n",
        "    print(nw_url)\n",
        "    \n",
        "    # Get text from URLs  \n",
        "    ny_bb = url_to_string(nw_url)\n",
        "    \n",
        "    # Extract entities from the text\n",
        "    data_x = string_to_entities(ny_bb)\n",
        "\n",
        "    # Get the top five entities for each URL\n",
        "    ls = list((Counter(data_x).most_common(5)))\n",
        "    \n",
        "    # Store data in df_new\n",
        "    for y,w in ls:\n",
        "      print(nw_url, y,w)\n",
        "    \n",
        "      # Add new row containing url, entities, types and total count\n",
        "      df_new = df_new.append({'url': nw_url, 'entities': y[0], 'types': y[1],'total': w}, ignore_index=True)\n",
        "          \n",
        "    print(k, \"/\", len(df))\n",
        "    \n",
        "    # Add some logging\n",
        "    logging.info('Took %s', time() - ts)\n"
      ],
      "execution_count": 0,
      "outputs": [
        {
          "output_type": "stream",
          "text": [
            "https://open-data.insideout.io/\n"
          ],
          "name": "stdout"
        },
        {
          "output_type": "stream",
          "text": [
            "2019-10-03 13:47:31,074 - root - INFO - Took 2.9556660652160645\n"
          ],
          "name": "stderr"
        },
        {
          "output_type": "stream",
          "text": [
            "total number of entities: 833\n",
            "https://open-data.insideout.io/ ('Knowledge Graphs', 'PERSON') 20\n",
            "https://open-data.insideout.io/ ('London', 'GPE') 20\n",
            "https://open-data.insideout.io/ ('2019', 'DATE') 19\n",
            "https://open-data.insideout.io/ ('Connected Data', 'ORG') 19\n",
            "https://open-data.insideout.io/ ('Siren', 'ORG') 18\n",
            "0 / 17\n",
            "https://open-data.insideout.io/2018/12/11/the-future-of-data-is-connected-and-open-minded/\n"
          ],
          "name": "stdout"
        },
        {
          "output_type": "stream",
          "text": [
            "2019-10-03 13:47:32,121 - root - INFO - Took 4.00358510017395\n"
          ],
          "name": "stderr"
        },
        {
          "output_type": "stream",
          "text": [
            "total number of entities: 135\n",
            "https://open-data.insideout.io/2018/12/11/the-future-of-data-is-connected-and-open-minded/ ('Knowledge Graphs', 'PERSON') 9\n",
            "https://open-data.insideout.io/2018/12/11/the-future-of-data-is-connected-and-open-minded/ ('Linked Data', 'ORG') 5\n",
            "https://open-data.insideout.io/2018/12/11/the-future-of-data-is-connected-and-open-minded/ ('one', 'CARDINAL') 5\n",
            "https://open-data.insideout.io/2018/12/11/the-future-of-data-is-connected-and-open-minded/ ('today', 'DATE') 3\n",
            "https://open-data.insideout.io/2018/12/11/the-future-of-data-is-connected-and-open-minded/ ('London', 'GPE') 3\n",
            "1 / 17\n",
            "https://open-data.insideout.io/2019/07/01/life-sciences-at-connected-data-london-2019/\n"
          ],
          "name": "stdout"
        },
        {
          "output_type": "stream",
          "text": [
            "2019-10-03 13:47:32,958 - root - INFO - Took 4.840188026428223\n"
          ],
          "name": "stderr"
        },
        {
          "output_type": "stream",
          "text": [
            "total number of entities: 66\n",
            "https://open-data.insideout.io/2019/07/01/life-sciences-at-connected-data-london-2019/ ('Connected Data', 'ORG') 4\n",
            "https://open-data.insideout.io/2019/07/01/life-sciences-at-connected-data-london-2019/ ('Life Sciences', 'ORG') 4\n",
            "https://open-data.insideout.io/2019/07/01/life-sciences-at-connected-data-london-2019/ ('London', 'GPE') 3\n",
            "https://open-data.insideout.io/2019/07/01/life-sciences-at-connected-data-london-2019/ ('Connected Data London', 'ORG') 3\n",
            "https://open-data.insideout.io/2019/07/01/life-sciences-at-connected-data-london-2019/ ('2019', 'CARDINAL') 2\n",
            "2 / 17\n",
            "https://open-data.insideout.io/2018/11/05/deep-link-analysis-drives-machine-learning-at-massive-scale/\n"
          ],
          "name": "stdout"
        },
        {
          "output_type": "stream",
          "text": [
            "2019-10-03 13:47:34,086 - root - INFO - Took 5.968474388122559\n"
          ],
          "name": "stderr"
        },
        {
          "output_type": "stream",
          "text": [
            "total number of entities: 124\n",
            "https://open-data.insideout.io/2018/11/05/deep-link-analysis-drives-machine-learning-at-massive-scale/ ('three', 'CARDINAL') 10\n",
            "https://open-data.insideout.io/2018/11/05/deep-link-analysis-drives-machine-learning-at-massive-scale/ ('TigerGraph', 'ORG') 7\n",
            "https://open-data.insideout.io/2018/11/05/deep-link-analysis-drives-machine-learning-at-massive-scale/ ('’s', 'GPE') 7\n",
            "https://open-data.insideout.io/2018/11/05/deep-link-analysis-drives-machine-learning-at-massive-scale/ ('John', 'PERSON') 7\n",
            "https://open-data.insideout.io/2018/11/05/deep-link-analysis-drives-machine-learning-at-massive-scale/ ('Tim', 'PERSON') 6\n",
            "3 / 17\n",
            "https://open-data.insideout.io/2019/03/08/more-connected-more-data-more-london-connected-data-london-2019/\n"
          ],
          "name": "stdout"
        },
        {
          "output_type": "stream",
          "text": [
            "2019-10-03 13:47:34,627 - root - INFO - Took 6.5091681480407715\n"
          ],
          "name": "stderr"
        },
        {
          "output_type": "stream",
          "text": [
            "total number of entities: 133\n",
            "https://open-data.insideout.io/2019/03/08/more-connected-more-data-more-london-connected-data-london-2019/ ('London', 'GPE') 9\n",
            "https://open-data.insideout.io/2019/03/08/more-connected-more-data-more-london-connected-data-london-2019/ ('2019', 'DATE') 7\n",
            "https://open-data.insideout.io/2019/03/08/more-connected-more-data-more-london-connected-data-london-2019/ ('CDL', 'ORG') 4\n",
            "https://open-data.insideout.io/2019/03/08/more-connected-more-data-more-london-connected-data-london-2019/ ('SEO', 'ORG') 3\n",
            "https://open-data.insideout.io/2019/03/08/more-connected-more-data-more-london-connected-data-london-2019/ ('Microsoft', 'ORG') 3\n",
            "4 / 17\n",
            "https://open-data.insideout.io/page/2/\n"
          ],
          "name": "stdout"
        },
        {
          "output_type": "stream",
          "text": [
            "2019-10-03 13:47:35,947 - root - INFO - Took 7.8287975788116455\n"
          ],
          "name": "stderr"
        },
        {
          "output_type": "stream",
          "text": [
            "total number of entities: 185\n",
            "https://open-data.insideout.io/page/2/ ('KeyLines', 'ORG') 34\n",
            "https://open-data.insideout.io/page/2/ ('OpenRefine', 'ORG') 11\n",
            "https://open-data.insideout.io/page/2/ ('GraphDB', 'CARDINAL') 8\n",
            "https://open-data.insideout.io/page/2/ ('GraphDB', 'DATE') 8\n",
            "https://open-data.insideout.io/page/2/ ('SPARQL', 'ORG') 5\n",
            "5 / 17\n",
            "https://open-data.insideout.io/2019/06/03/the-future-is-graph-knowledge-graph-connected-data-london-is-where-you-get-your-graph-knowledge/\n"
          ],
          "name": "stdout"
        },
        {
          "output_type": "stream",
          "text": [
            "2019-10-03 13:47:36,802 - root - INFO - Took 8.683933734893799\n"
          ],
          "name": "stderr"
        },
        {
          "output_type": "stream",
          "text": [
            "total number of entities: 109\n",
            "https://open-data.insideout.io/2019/06/03/the-future-is-graph-knowledge-graph-connected-data-london-is-where-you-get-your-graph-knowledge/ ('Microsoft', 'ORG') 7\n",
            "https://open-data.insideout.io/2019/06/03/the-future-is-graph-knowledge-graph-connected-data-london-is-where-you-get-your-graph-knowledge/ ('Connected Data', 'ORG') 5\n",
            "https://open-data.insideout.io/2019/06/03/the-future-is-graph-knowledge-graph-connected-data-london-is-where-you-get-your-graph-knowledge/ ('2019', 'DATE') 5\n",
            "https://open-data.insideout.io/2019/06/03/the-future-is-graph-knowledge-graph-connected-data-london-is-where-you-get-your-graph-knowledge/ ('Joshua', 'PERSON') 4\n",
            "https://open-data.insideout.io/2019/06/03/the-future-is-graph-knowledge-graph-connected-data-london-is-where-you-get-your-graph-knowledge/ ('London', 'GPE') 3\n",
            "6 / 17\n",
            "https://open-data.insideout.io/2019/05/01/how-graphs-continue-to-revolutionise-the-prevention-of-financial-crime-fraud-in-real-time/\n"
          ],
          "name": "stdout"
        },
        {
          "output_type": "stream",
          "text": [
            "2019-10-03 13:47:37,241 - root - INFO - Took 9.123524904251099\n"
          ],
          "name": "stderr"
        },
        {
          "output_type": "stream",
          "text": [
            "total number of entities: 89\n",
            "https://open-data.insideout.io/2019/05/01/how-graphs-continue-to-revolutionise-the-prevention-of-financial-crime-fraud-in-real-time/ ('TigerGraph', 'ORG') 4\n",
            "https://open-data.insideout.io/2019/05/01/how-graphs-continue-to-revolutionise-the-prevention-of-financial-crime-fraud-in-real-time/ ('Graphs', 'PERSON') 3\n",
            "https://open-data.insideout.io/2019/05/01/how-graphs-continue-to-revolutionise-the-prevention-of-financial-crime-fraud-in-real-time/ ('one', 'CARDINAL') 3\n",
            "https://open-data.insideout.io/2019/05/01/how-graphs-continue-to-revolutionise-the-prevention-of-financial-crime-fraud-in-real-time/ ('OpenCorporates', 'ORG') 3\n",
            "https://open-data.insideout.io/2019/05/01/how-graphs-continue-to-revolutionise-the-prevention-of-financial-crime-fraud-in-real-time/ ('GSQL', 'ORG') 3\n",
            "7 / 17\n",
            "https://open-data.insideout.io/2019/09/22/leverage-your-enterprise-data-with-knowledge-graphs-without-changing-everything/\n"
          ],
          "name": "stdout"
        },
        {
          "output_type": "stream",
          "text": [
            "2019-10-03 13:47:38,206 - root - INFO - Took 10.088030576705933\n"
          ],
          "name": "stderr"
        },
        {
          "output_type": "stream",
          "text": [
            "total number of entities: 132\n",
            "https://open-data.insideout.io/2019/09/22/leverage-your-enterprise-data-with-knowledge-graphs-without-changing-everything/ ('Siren', 'ORG') 17\n",
            "https://open-data.insideout.io/2019/09/22/leverage-your-enterprise-data-with-knowledge-graphs-without-changing-everything/ ('Knowledge Graphs', 'PERSON') 6\n",
            "https://open-data.insideout.io/2019/09/22/leverage-your-enterprise-data-with-knowledge-graphs-without-changing-everything/ ('Siren ML', 'ORG') 6\n",
            "https://open-data.insideout.io/2019/09/22/leverage-your-enterprise-data-with-knowledge-graphs-without-changing-everything/ ('10.3', 'CARDINAL') 3\n",
            "https://open-data.insideout.io/2019/09/22/leverage-your-enterprise-data-with-knowledge-graphs-without-changing-everything/ ('UI', 'ORG') 3\n",
            "8 / 17\n",
            "https://open-data.insideout.io/author/cyberandy/\n"
          ],
          "name": "stdout"
        },
        {
          "output_type": "stream",
          "text": [
            "2019-10-03 13:47:38,638 - root - INFO - Took 10.520023584365845\n"
          ],
          "name": "stderr"
        },
        {
          "output_type": "stream",
          "text": [
            "total number of entities: 95\n",
            "https://open-data.insideout.io/author/cyberandy/ ('2019', 'DATE') 8\n",
            "https://open-data.insideout.io/author/cyberandy/ ('Connected Data', 'ORG') 7\n",
            "https://open-data.insideout.io/author/cyberandy/ ('London', 'GPE') 7\n",
            "https://open-data.insideout.io/author/cyberandy/ ('Connected Data London', 'ORG') 5\n",
            "https://open-data.insideout.io/author/cyberandy/ ('The Future of Data', 'ORG') 3\n",
            "9 / 17\n",
            "https://open-data.insideout.io/2019/08/11/connected-data-london-2019-program-announced-the-future-is-graph-knowledge-graph-connected-data-london-is-where-it-unfolds/\n"
          ],
          "name": "stdout"
        },
        {
          "output_type": "stream",
          "text": [
            "2019-10-03 13:47:39,430 - root - INFO - Took 11.311635971069336\n",
            "2019-10-03 13:47:39,560 - root - INFO - Took 11.442017555236816\n"
          ],
          "name": "stderr"
        },
        {
          "output_type": "stream",
          "text": [
            "total number of entities: 103\n",
            "https://open-data.insideout.io/2019/08/11/connected-data-london-2019-program-announced-the-future-is-graph-knowledge-graph-connected-data-london-is-where-it-unfolds/ ('London', 'GPE') 5\n",
            "https://open-data.insideout.io/2019/08/11/connected-data-london-2019-program-announced-the-future-is-graph-knowledge-graph-connected-data-london-is-where-it-unfolds/ ('2019', 'DATE') 5\n",
            "https://open-data.insideout.io/2019/08/11/connected-data-london-2019-program-announced-the-future-is-graph-knowledge-graph-connected-data-london-is-where-it-unfolds/ ('Connected Data London', 'ORG') 4\n",
            "https://open-data.insideout.io/2019/08/11/connected-data-london-2019-program-announced-the-future-is-graph-knowledge-graph-connected-data-london-is-where-it-unfolds/ ('Graph', 'PERSON') 3\n",
            "https://open-data.insideout.io/2019/08/11/connected-data-london-2019-program-announced-the-future-is-graph-knowledge-graph-connected-data-london-is-where-it-unfolds/ ('Data', 'ORG') 3\n",
            "10 / 17\n",
            "https://open-data.insideout.io/cdn-cgi/l/email-protection\n",
            "total number of entities: 8\n",
            "https://open-data.insideout.io/cdn-cgi/l/email-protection ('Cloudflare', 'ORG') 2\n",
            "https://open-data.insideout.io/cdn-cgi/l/email-protection ('Email Protection', 'PERSON') 1\n",
            "https://open-data.insideout.io/cdn-cgi/l/email-protection ('Email', 'ORG') 1\n",
            "https://open-data.insideout.io/cdn-cgi/l/email-protection ('Javascript', 'ORG') 1\n",
            "https://open-data.insideout.io/cdn-cgi/l/email-protection ('Cloudflare Ray ID', 'PERSON') 1\n",
            "11 / 17\n",
            "https://open-data.insideout.io/2019/05/22/win-free-half-price-tickets-to-the-worlds-largest-developer-conference/\n"
          ],
          "name": "stdout"
        },
        {
          "output_type": "stream",
          "text": [
            "2019-10-03 13:47:39,870 - root - INFO - Took 11.752009630203247\n"
          ],
          "name": "stderr"
        },
        {
          "output_type": "stream",
          "text": [
            "total number of entities: 27\n",
            "https://open-data.insideout.io/2019/05/22/win-free-half-price-tickets-to-the-worlds-largest-developer-conference/ ('Connected Data', 'ORG') 2\n",
            "https://open-data.insideout.io/2019/05/22/win-free-half-price-tickets-to-the-worlds-largest-developer-conference/ ('May 22, 2019October 3, 2019', 'DATE') 1\n",
            "https://open-data.insideout.io/2019/05/22/win-free-half-price-tickets-to-the-worlds-largest-developer-conference/ ('Data', 'ORG') 1\n",
            "https://open-data.insideout.io/2019/05/22/win-free-half-price-tickets-to-the-worlds-largest-developer-conference/ ('London', 'GPE') 1\n",
            "https://open-data.insideout.io/2019/05/22/win-free-half-price-tickets-to-the-worlds-largest-developer-conference/ ('October the 3rd and 4th', 'DATE') 1\n",
            "12 / 17\n",
            "https://open-data.insideout.io/2019/05/13/connected-data-workshops-get-hands-on-knowledge-learn-from-the-best/\n"
          ],
          "name": "stdout"
        },
        {
          "output_type": "stream",
          "text": [
            "2019-10-03 13:47:40,199 - root - INFO - Took 12.08085823059082\n"
          ],
          "name": "stderr"
        },
        {
          "output_type": "stream",
          "text": [
            "total number of entities: 48\n",
            "https://open-data.insideout.io/2019/05/13/connected-data-workshops-get-hands-on-knowledge-learn-from-the-best/ ('Connected Data', 'ORG') 3\n",
            "https://open-data.insideout.io/2019/05/13/connected-data-workshops-get-hands-on-knowledge-learn-from-the-best/ ('Graphs', 'PERSON') 3\n",
            "https://open-data.insideout.io/2019/05/13/connected-data-workshops-get-hands-on-knowledge-learn-from-the-best/ ('Andrea Volpini', 'PERSON') 2\n",
            "https://open-data.insideout.io/2019/05/13/connected-data-workshops-get-hands-on-knowledge-learn-from-the-best/ ('Mark Needham', 'PERSON') 2\n",
            "https://open-data.insideout.io/2019/05/13/connected-data-workshops-get-hands-on-knowledge-learn-from-the-best/ ('Victor Lee', 'PERSON') 2\n",
            "13 / 17\n",
            "https://open-data.insideout.io/2018/10/22/semantics-meet-data-science-graphdb-adds-support-for-data-wrangling-and-similarity-search/\n"
          ],
          "name": "stdout"
        },
        {
          "output_type": "stream",
          "text": [
            "2019-10-03 13:47:41,168 - root - INFO - Took 13.050288915634155\n"
          ],
          "name": "stderr"
        },
        {
          "output_type": "stream",
          "text": [
            "total number of entities: 96\n",
            "https://open-data.insideout.io/2018/10/22/semantics-meet-data-science-graphdb-adds-support-for-data-wrangling-and-similarity-search/ ('OpenRefine', 'ORG') 11\n",
            "https://open-data.insideout.io/2018/10/22/semantics-meet-data-science-graphdb-adds-support-for-data-wrangling-and-similarity-search/ ('GraphDB', 'CARDINAL') 9\n",
            "https://open-data.insideout.io/2018/10/22/semantics-meet-data-science-graphdb-adds-support-for-data-wrangling-and-similarity-search/ ('GraphDB', 'DATE') 8\n",
            "https://open-data.insideout.io/2018/10/22/semantics-meet-data-science-graphdb-adds-support-for-data-wrangling-and-similarity-search/ ('SPARQL', 'ORG') 5\n",
            "https://open-data.insideout.io/2018/10/22/semantics-meet-data-science-graphdb-adds-support-for-data-wrangling-and-similarity-search/ ('Semantic Vectors', 'LOC') 4\n",
            "14 / 17\n",
            "https://open-data.insideout.io/author/cyberandy/page/2/\n"
          ],
          "name": "stdout"
        },
        {
          "output_type": "stream",
          "text": [
            "2019-10-03 13:47:41,916 - root - INFO - Took 13.797826766967773\n"
          ],
          "name": "stderr"
        },
        {
          "output_type": "stream",
          "text": [
            "total number of entities: 21\n",
            "https://open-data.insideout.io/author/cyberandy/page/2/ ('KeyLines', 'ORG') 2\n",
            "https://open-data.insideout.io/author/cyberandy/page/2/ ('Semantics', 'NORP') 2\n",
            "https://open-data.insideout.io/author/cyberandy/page/2/ ('Data Science', 'ORG') 2\n",
            "https://open-data.insideout.io/author/cyberandy/page/2/ ('GraphDB', 'CARDINAL') 2\n",
            "https://open-data.insideout.io/author/cyberandy/page/2/ ('Page 2', 'ORG') 1\n",
            "15 / 17\n",
            "https://open-data.insideout.io/2018/10/24/visualizing-graphs-with-keylines-bringing-connected-data-to-life/\n"
          ],
          "name": "stdout"
        },
        {
          "output_type": "stream",
          "text": [
            "2019-10-03 13:47:42,850 - root - INFO - Took 14.732438564300537\n"
          ],
          "name": "stderr"
        },
        {
          "output_type": "stream",
          "text": [
            "total number of entities: 113\n",
            "https://open-data.insideout.io/2018/10/24/visualizing-graphs-with-keylines-bringing-connected-data-to-life/ ('KeyLines', 'ORG') 35\n",
            "https://open-data.insideout.io/2018/10/24/visualizing-graphs-with-keylines-bringing-connected-data-to-life/ ('Cambridge Intelligence', 'ORG') 4\n",
            "https://open-data.insideout.io/2018/10/24/visualizing-graphs-with-keylines-bringing-connected-data-to-life/ ('JavaScript', 'ORG') 3\n",
            "https://open-data.insideout.io/2018/10/24/visualizing-graphs-with-keylines-bringing-connected-data-to-life/ ('SDK', 'ORG') 2\n",
            "https://open-data.insideout.io/2018/10/24/visualizing-graphs-with-keylines-bringing-connected-data-to-life/ ('JSON', 'ORG') 2\n",
            "16 / 17\n"
          ],
          "name": "stdout"
        }
      ]
    },
    {
      "cell_type": "markdown",
      "metadata": {
        "id": "2QCFVvl7PSOM",
        "colab_type": "text"
      },
      "source": [
        "## Storing the data\n",
        "\n",
        "In the following cells we are going to: \n",
        "\n",
        "1.   Save a CSV containing url, entities, types and total \n",
        "2.   Filter only entities belonging to specific types (see [here](https://spacy.io/api/annotation#named-entities) for the complete list)\n",
        "3.   Get the top 1.000 entities by the number of occurrences in the entire text corpus (all the scanned pages)\n",
        "4.   Saving the top 1.000 entities to a CSV \n",
        "5.   Plotting the top 50 entities using a bar chart\n",
        "\n"
      ]
    },
    {
      "cell_type": "code",
      "metadata": {
        "id": "PtjBKMUyqml2",
        "colab_type": "code",
        "outputId": "7f1b1d71-d25e-4b50-d9bd-71312eff8342",
        "colab": {
          "base_uri": "https://localhost:8080/",
          "height": 204
        }
      },
      "source": [
        "df_new.head()"
      ],
      "execution_count": 0,
      "outputs": [
        {
          "output_type": "execute_result",
          "data": {
            "text/html": [
              "<div>\n",
              "<style scoped>\n",
              "    .dataframe tbody tr th:only-of-type {\n",
              "        vertical-align: middle;\n",
              "    }\n",
              "\n",
              "    .dataframe tbody tr th {\n",
              "        vertical-align: top;\n",
              "    }\n",
              "\n",
              "    .dataframe thead th {\n",
              "        text-align: right;\n",
              "    }\n",
              "</style>\n",
              "<table border=\"1\" class=\"dataframe\">\n",
              "  <thead>\n",
              "    <tr style=\"text-align: right;\">\n",
              "      <th></th>\n",
              "      <th>url</th>\n",
              "      <th>entities</th>\n",
              "      <th>types</th>\n",
              "      <th>total</th>\n",
              "    </tr>\n",
              "  </thead>\n",
              "  <tbody>\n",
              "    <tr>\n",
              "      <th>0</th>\n",
              "      <td>https://open-data.insideout.io/</td>\n",
              "      <td>Knowledge Graphs</td>\n",
              "      <td>PERSON</td>\n",
              "      <td>20</td>\n",
              "    </tr>\n",
              "    <tr>\n",
              "      <th>1</th>\n",
              "      <td>https://open-data.insideout.io/</td>\n",
              "      <td>London</td>\n",
              "      <td>GPE</td>\n",
              "      <td>20</td>\n",
              "    </tr>\n",
              "    <tr>\n",
              "      <th>2</th>\n",
              "      <td>https://open-data.insideout.io/</td>\n",
              "      <td>2019</td>\n",
              "      <td>DATE</td>\n",
              "      <td>19</td>\n",
              "    </tr>\n",
              "    <tr>\n",
              "      <th>3</th>\n",
              "      <td>https://open-data.insideout.io/</td>\n",
              "      <td>Connected Data</td>\n",
              "      <td>ORG</td>\n",
              "      <td>19</td>\n",
              "    </tr>\n",
              "    <tr>\n",
              "      <th>4</th>\n",
              "      <td>https://open-data.insideout.io/</td>\n",
              "      <td>Siren</td>\n",
              "      <td>ORG</td>\n",
              "      <td>18</td>\n",
              "    </tr>\n",
              "  </tbody>\n",
              "</table>\n",
              "</div>"
            ],
            "text/plain": [
              "                               url          entities   types total\n",
              "0  https://open-data.insideout.io/  Knowledge Graphs  PERSON    20\n",
              "1  https://open-data.insideout.io/            London     GPE    20\n",
              "2  https://open-data.insideout.io/              2019    DATE    19\n",
              "3  https://open-data.insideout.io/    Connected Data     ORG    19\n",
              "4  https://open-data.insideout.io/             Siren     ORG    18"
            ]
          },
          "metadata": {
            "tags": []
          },
          "execution_count": 13
        }
      ]
    },
    {
      "cell_type": "code",
      "metadata": {
        "id": "feu1NnwlcEmM",
        "colab_type": "code",
        "colab": {}
      },
      "source": [
        "# Store DataFrame to CSV (url, entities, types, total)\n",
        "\n",
        "#from google.colab import files\n",
        "\n",
        "df_new.to_csv('all_data_wordlift.csv') \n",
        "#files.download('all_data_wordlift.csv')"
      ],
      "execution_count": 0,
      "outputs": []
    },
    {
      "cell_type": "code",
      "metadata": {
        "id": "6hza3Kfr0jgu",
        "colab_type": "code",
        "outputId": "f81cf463-7da1-4cb3-8bec-df47ad752b48",
        "colab": {
          "base_uri": "https://localhost:8080/",
          "height": 51
        }
      },
      "source": [
        "# Choose the entity types that we want to focus on\n",
        "types_included = ['PERSON', 'NORP', 'FAC','ORG','GPE','PRODUCT','EVENT','WORK_OF_ART','LAW']\n",
        "entities_excluded = ['’s', 'Email Protection','Email','Page 2'] # data cleaning - add here entities you wish to remove          \n",
        "\n",
        "df_new_filtered = df_new[df_new.types.isin(types_included)][~df_new.entities.isin(entities_excluded)] \n",
        "\n",
        "\n",
        "# Group the list by unique entities, count the total number of occurrences and choose the top 1000\n",
        "df_new_filtered = df_new_filtered.groupby('entities')['total'].sum().nlargest(1000).reset_index(name='total_count')\n",
        "\n"
      ],
      "execution_count": 0,
      "outputs": [
        {
          "output_type": "stream",
          "text": [
            "/usr/local/lib/python3.6/dist-packages/ipykernel_launcher.py:4: UserWarning: Boolean Series key will be reindexed to match DataFrame index.\n",
            "  after removing the cwd from sys.path.\n"
          ],
          "name": "stderr"
        }
      ]
    },
    {
      "cell_type": "code",
      "metadata": {
        "id": "O3sSgrz0GjRI",
        "colab_type": "code",
        "outputId": "765626a5-5294-4c48-d272-651ffe0f2810",
        "colab": {
          "base_uri": "https://localhost:8080/",
          "height": 1000
        }
      },
      "source": [
        "df_new_filtered.head(50)"
      ],
      "execution_count": 0,
      "outputs": [
        {
          "output_type": "execute_result",
          "data": {
            "text/html": [
              "<div>\n",
              "<style scoped>\n",
              "    .dataframe tbody tr th:only-of-type {\n",
              "        vertical-align: middle;\n",
              "    }\n",
              "\n",
              "    .dataframe tbody tr th {\n",
              "        vertical-align: top;\n",
              "    }\n",
              "\n",
              "    .dataframe thead th {\n",
              "        text-align: right;\n",
              "    }\n",
              "</style>\n",
              "<table border=\"1\" class=\"dataframe\">\n",
              "  <thead>\n",
              "    <tr style=\"text-align: right;\">\n",
              "      <th></th>\n",
              "      <th>entities</th>\n",
              "      <th>total_count</th>\n",
              "    </tr>\n",
              "  </thead>\n",
              "  <tbody>\n",
              "    <tr>\n",
              "      <th>0</th>\n",
              "      <td>KeyLines</td>\n",
              "      <td>71</td>\n",
              "    </tr>\n",
              "    <tr>\n",
              "      <th>1</th>\n",
              "      <td>London</td>\n",
              "      <td>51</td>\n",
              "    </tr>\n",
              "    <tr>\n",
              "      <th>2</th>\n",
              "      <td>Connected Data</td>\n",
              "      <td>40</td>\n",
              "    </tr>\n",
              "    <tr>\n",
              "      <th>3</th>\n",
              "      <td>Knowledge Graphs</td>\n",
              "      <td>35</td>\n",
              "    </tr>\n",
              "    <tr>\n",
              "      <th>4</th>\n",
              "      <td>Siren</td>\n",
              "      <td>35</td>\n",
              "    </tr>\n",
              "    <tr>\n",
              "      <th>5</th>\n",
              "      <td>OpenRefine</td>\n",
              "      <td>22</td>\n",
              "    </tr>\n",
              "    <tr>\n",
              "      <th>6</th>\n",
              "      <td>Connected Data London</td>\n",
              "      <td>12</td>\n",
              "    </tr>\n",
              "    <tr>\n",
              "      <th>7</th>\n",
              "      <td>TigerGraph</td>\n",
              "      <td>11</td>\n",
              "    </tr>\n",
              "    <tr>\n",
              "      <th>8</th>\n",
              "      <td>SPARQL</td>\n",
              "      <td>10</td>\n",
              "    </tr>\n",
              "    <tr>\n",
              "      <th>9</th>\n",
              "      <td>Microsoft</td>\n",
              "      <td>10</td>\n",
              "    </tr>\n",
              "    <tr>\n",
              "      <th>10</th>\n",
              "      <td>John</td>\n",
              "      <td>7</td>\n",
              "    </tr>\n",
              "    <tr>\n",
              "      <th>11</th>\n",
              "      <td>Siren ML</td>\n",
              "      <td>6</td>\n",
              "    </tr>\n",
              "    <tr>\n",
              "      <th>12</th>\n",
              "      <td>Graphs</td>\n",
              "      <td>6</td>\n",
              "    </tr>\n",
              "    <tr>\n",
              "      <th>13</th>\n",
              "      <td>Tim</td>\n",
              "      <td>6</td>\n",
              "    </tr>\n",
              "    <tr>\n",
              "      <th>14</th>\n",
              "      <td>Linked Data</td>\n",
              "      <td>5</td>\n",
              "    </tr>\n",
              "    <tr>\n",
              "      <th>15</th>\n",
              "      <td>Joshua</td>\n",
              "      <td>4</td>\n",
              "    </tr>\n",
              "    <tr>\n",
              "      <th>16</th>\n",
              "      <td>CDL</td>\n",
              "      <td>4</td>\n",
              "    </tr>\n",
              "    <tr>\n",
              "      <th>17</th>\n",
              "      <td>Life Sciences</td>\n",
              "      <td>4</td>\n",
              "    </tr>\n",
              "    <tr>\n",
              "      <th>18</th>\n",
              "      <td>Data</td>\n",
              "      <td>4</td>\n",
              "    </tr>\n",
              "    <tr>\n",
              "      <th>19</th>\n",
              "      <td>Cambridge Intelligence</td>\n",
              "      <td>4</td>\n",
              "    </tr>\n",
              "    <tr>\n",
              "      <th>20</th>\n",
              "      <td>The Future of Data</td>\n",
              "      <td>3</td>\n",
              "    </tr>\n",
              "    <tr>\n",
              "      <th>21</th>\n",
              "      <td>JavaScript</td>\n",
              "      <td>3</td>\n",
              "    </tr>\n",
              "    <tr>\n",
              "      <th>22</th>\n",
              "      <td>Graph</td>\n",
              "      <td>3</td>\n",
              "    </tr>\n",
              "    <tr>\n",
              "      <th>23</th>\n",
              "      <td>GSQL</td>\n",
              "      <td>3</td>\n",
              "    </tr>\n",
              "    <tr>\n",
              "      <th>24</th>\n",
              "      <td>UI</td>\n",
              "      <td>3</td>\n",
              "    </tr>\n",
              "    <tr>\n",
              "      <th>25</th>\n",
              "      <td>OpenCorporates</td>\n",
              "      <td>3</td>\n",
              "    </tr>\n",
              "    <tr>\n",
              "      <th>26</th>\n",
              "      <td>SEO</td>\n",
              "      <td>3</td>\n",
              "    </tr>\n",
              "    <tr>\n",
              "      <th>27</th>\n",
              "      <td>Semantics</td>\n",
              "      <td>2</td>\n",
              "    </tr>\n",
              "    <tr>\n",
              "      <th>28</th>\n",
              "      <td>Andrea Volpini</td>\n",
              "      <td>2</td>\n",
              "    </tr>\n",
              "    <tr>\n",
              "      <th>29</th>\n",
              "      <td>SDK</td>\n",
              "      <td>2</td>\n",
              "    </tr>\n",
              "    <tr>\n",
              "      <th>30</th>\n",
              "      <td>Mark Needham</td>\n",
              "      <td>2</td>\n",
              "    </tr>\n",
              "    <tr>\n",
              "      <th>31</th>\n",
              "      <td>JSON</td>\n",
              "      <td>2</td>\n",
              "    </tr>\n",
              "    <tr>\n",
              "      <th>32</th>\n",
              "      <td>Data Science</td>\n",
              "      <td>2</td>\n",
              "    </tr>\n",
              "    <tr>\n",
              "      <th>33</th>\n",
              "      <td>Cloudflare</td>\n",
              "      <td>2</td>\n",
              "    </tr>\n",
              "    <tr>\n",
              "      <th>34</th>\n",
              "      <td>Victor Lee</td>\n",
              "      <td>2</td>\n",
              "    </tr>\n",
              "    <tr>\n",
              "      <th>35</th>\n",
              "      <td>Javascript</td>\n",
              "      <td>1</td>\n",
              "    </tr>\n",
              "    <tr>\n",
              "      <th>36</th>\n",
              "      <td>Cloudflare Ray ID</td>\n",
              "      <td>1</td>\n",
              "    </tr>\n",
              "  </tbody>\n",
              "</table>\n",
              "</div>"
            ],
            "text/plain": [
              "                  entities  total_count\n",
              "0                 KeyLines           71\n",
              "1                   London           51\n",
              "2           Connected Data           40\n",
              "3         Knowledge Graphs           35\n",
              "4                    Siren           35\n",
              "5               OpenRefine           22\n",
              "6    Connected Data London           12\n",
              "7               TigerGraph           11\n",
              "8                   SPARQL           10\n",
              "9                Microsoft           10\n",
              "10                    John            7\n",
              "11                Siren ML            6\n",
              "12                  Graphs            6\n",
              "13                     Tim            6\n",
              "14             Linked Data            5\n",
              "15                  Joshua            4\n",
              "16                     CDL            4\n",
              "17           Life Sciences            4\n",
              "18                    Data            4\n",
              "19  Cambridge Intelligence            4\n",
              "20      The Future of Data            3\n",
              "21              JavaScript            3\n",
              "22                   Graph            3\n",
              "23                    GSQL            3\n",
              "24                      UI            3\n",
              "25          OpenCorporates            3\n",
              "26                     SEO            3\n",
              "27               Semantics            2\n",
              "28          Andrea Volpini            2\n",
              "29                     SDK            2\n",
              "30            Mark Needham            2\n",
              "31                    JSON            2\n",
              "32            Data Science            2\n",
              "33              Cloudflare            2\n",
              "34              Victor Lee            2\n",
              "35              Javascript            1\n",
              "36       Cloudflare Ray ID            1"
            ]
          },
          "metadata": {
            "tags": []
          },
          "execution_count": 16
        }
      ]
    },
    {
      "cell_type": "code",
      "metadata": {
        "id": "IwdkEjegq-yg",
        "colab_type": "code",
        "colab": {}
      },
      "source": [
        "# Store the list of the top unique entities\n",
        "\n",
        "from google.colab import files\n",
        "\n",
        "df_new_filtered.to_csv('top_entities.csv') \n",
        "files.download('top_entities.csv')"
      ],
      "execution_count": 0,
      "outputs": []
    },
    {
      "cell_type": "markdown",
      "metadata": {
        "id": "goxQhDbMh4S7",
        "colab_type": "text"
      },
      "source": [
        "### Top 50 entities"
      ]
    },
    {
      "cell_type": "code",
      "metadata": {
        "id": "opRXY5RMhZFW",
        "colab_type": "code",
        "outputId": "e3afa389-9806-493d-d4df-a81a841cd939",
        "colab": {
          "base_uri": "https://localhost:8080/",
          "height": 356
        }
      },
      "source": [
        "# Plotting a bar chart with the top 50\n",
        "\n",
        "top50 = df_new_filtered.head(50)\n",
        "plt.rcParams['figure.figsize'] = (10,3)\n",
        "\n",
        "top50.plot(x ='entities', y='total_count', kind='bar')\n"
      ],
      "execution_count": 0,
      "outputs": [
        {
          "output_type": "execute_result",
          "data": {
            "text/plain": [
              "<matplotlib.axes._subplots.AxesSubplot at 0x7f39a28fa0f0>"
            ]
          },
          "metadata": {
            "tags": []
          },
          "execution_count": 18
        },
        {
          "output_type": "display_data",
          "data": {
            "image/png": "[encoded data removed]",
            "text/plain": [
              "<Figure size 720x216 with 1 Axes>"
            ]
          },
          "metadata": {
            "tags": []
          }
        }
      ]
    },
    {
      "cell_type": "markdown",
      "metadata": {
        "id": "-uKrwm9ZiASS",
        "colab_type": "text"
      },
      "source": [
        "### Top 50 people"
      ]
    },
    {
      "cell_type": "code",
      "metadata": {
        "id": "xBSQz1Lfgf6b",
        "colab_type": "code",
        "outputId": "6c65c5ca-32b1-49d9-b853-a483d02f44f3",
        "colab": {
          "base_uri": "https://localhost:8080/",
          "height": 329
        }
      },
      "source": [
        "top_people = df_new[df_new['types'] == 'PERSON'].groupby('entities')['total'].sum().nlargest(50).reset_index(name='total_count')\n",
        "top_people.plot(x ='entities', y='total_count', kind='bar')\n",
        "                  "
      ],
      "execution_count": 0,
      "outputs": [
        {
          "output_type": "execute_result",
          "data": {
            "text/plain": [
              "<matplotlib.axes._subplots.AxesSubplot at 0x7f39a28246a0>"
            ]
          },
          "metadata": {
            "tags": []
          },
          "execution_count": 19
        },
        {
          "output_type": "display_data",
          "data": {
            "image/png": "[encoded data removed]",
            "text/plain": [
              "<Figure size 720x216 with 1 Axes>"
            ]
          },
          "metadata": {
            "tags": []
          }
        }
      ]
    },
    {
      "cell_type": "markdown",
      "metadata": {
        "id": "6qA6CDg1iJHS",
        "colab_type": "text"
      },
      "source": [
        "### Top 50 places (*countries, cities, states*)"
      ]
    },
    {
      "cell_type": "code",
      "metadata": {
        "id": "Sd1xz7tOiMNv",
        "colab_type": "code",
        "outputId": "2ab596d8-c8f0-48d7-fe8f-cb60ae19c5cb",
        "colab": {
          "base_uri": "https://localhost:8080/",
          "height": 272
        }
      },
      "source": [
        "top_places = df_new[df_new['types'] == 'GPE'].groupby('entities')['total'].sum().nlargest(50).reset_index(name='total_count')\n",
        "top_places.plot(x ='entities', y='total_count', kind='bar')"
      ],
      "execution_count": 0,
      "outputs": [
        {
          "output_type": "execute_result",
          "data": {
            "text/plain": [
              "<matplotlib.axes._subplots.AxesSubplot at 0x7f16a3df2828>"
            ]
          },
          "metadata": {
            "tags": []
          },
          "execution_count": 30
        },
        {
          "output_type": "display_data",
          "data": {
            "image/png": "[encoded data removed]",
            "text/plain": [
              "<Figure size 720x216 with 1 Axes>"
            ]
          },
          "metadata": {
            "tags": []
          }
        }
      ]
    },
    {
      "cell_type": "markdown",
      "metadata": {
        "id": "XZKEl3qeirlK",
        "colab_type": "text"
      },
      "source": [
        "### Top 50 organizations\n"
      ]
    },
    {
      "cell_type": "code",
      "metadata": {
        "id": "TLOruedpiyM2",
        "colab_type": "code",
        "outputId": "47b52544-1ea1-4c76-a3eb-bbf93484fd48",
        "colab": {
          "base_uri": "https://localhost:8080/",
          "height": 356
        }
      },
      "source": [
        "top_org = df_new[df_new['types'] == 'ORG'].groupby('entities')['total'].sum().nlargest(50).reset_index(name='total_count')\n",
        "top_org.plot(x ='entities', y='total_count', kind='bar')"
      ],
      "execution_count": 0,
      "outputs": [
        {
          "output_type": "execute_result",
          "data": {
            "text/plain": [
              "<matplotlib.axes._subplots.AxesSubplot at 0x7f16a1311668>"
            ]
          },
          "metadata": {
            "tags": []
          },
          "execution_count": 31
        },
        {
          "output_type": "display_data",
          "data": {
            "image/png": "[encoded data removed]",
            "text/plain": [
              "<Figure size 720x216 with 1 Axes>"
            ]
          },
          "metadata": {
            "tags": []
          }
        }
      ]
    },
    {
      "cell_type": "markdown",
      "metadata": {
        "id": "Zu62PMyxjG6O",
        "colab_type": "text"
      },
      "source": [
        "### Top named documents made into law"
      ]
    },
    {
      "cell_type": "code",
      "metadata": {
        "id": "2A7jzRKjjGpB",
        "colab_type": "code",
        "colab": {}
      },
      "source": [
        "top_law = df_new[df_new['types'] == 'LAW'].groupby('entities')['total'].sum().nlargest(10).reset_index(name='total_count')\n",
        "top_law.plot(x ='entities', y='total_count', kind='bar')"
      ],
      "execution_count": 0,
      "outputs": []
    },
    {
      "cell_type": "markdown",
      "metadata": {
        "id": "B7UAS6-g-sjT",
        "colab_type": "text"
      },
      "source": [
        "# License\n",
        "\n",
        "MIT License\n",
        "\n",
        "Copyright (c) 2019 Andrea Volpini, WordLift\n",
        "\n",
        "Permission is hereby granted, free of charge, to any person obtaining a copy of this software and associated documentation files (the \"Software\"), to deal in the Software without restriction, including without limitation the rights to use, copy, modify, merge, publish, distribute, sublicense, and/or sell copies of the Software, and to permit persons to whom the Software is furnished to do so, subject to the following conditions:\n",
        "\n",
        "The above copyright notice and this permission notice shall be included in all copies or substantial portions of the Software.\n",
        "\n",
        "THE SOFTWARE IS PROVIDED \"AS IS\", WITHOUT WARRANTY OF ANY KIND, EXPRESS OR IMPLIED, INCLUDING BUT NOT LIMITED TO THE WARRANTIES OF MERCHANTABILITY, FITNESS FOR A PARTICULAR PURPOSE AND NONINFRINGEMENT. IN NO EVENT SHALL THE AUTHORS OR COPYRIGHT HOLDERS BE LIABLE FOR ANY CLAIM, DAMAGES OR OTHER LIABILITY, WHETHER IN AN ACTION OF CONTRACT, TORT OR OTHERWISE, ARISING FROM, OUT OF OR IN CONNECTION WITH THE SOFTWARE OR THE USE OR OTHER DEALINGS IN THE SOFTWARE."
      ]
    }
  ]
}